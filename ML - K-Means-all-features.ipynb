{
 "cells": [
  {
   "cell_type": "markdown",
   "metadata": {},
   "source": [
    "## Import Libraries"
   ]
  },
  {
   "cell_type": "code",
   "execution_count": 319,
   "metadata": {},
   "outputs": [],
   "source": [
    "# To ignore warnings\n",
    "import warnings\n",
    "warnings.filterwarnings(\"ignore\")\n",
    "import pandas as pd\n",
    "import numpy as np\n",
    "import matplotlib.pyplot as plt\n",
    "import seaborn as sns\n",
    "\n",
    "from sklearn.model_selection import train_test_split, cross_val_score\n",
    "from sklearn.preprocessing import StandardScaler\n",
    "from sklearn.cluster import KMeans\n",
    "from sklearn.preprocessing import LabelEncoder\n",
    "\n",
    "from sklearn import metrics\n",
    "\n",
    "%matplotlib inline"
   ]
  },
  {
   "cell_type": "markdown",
   "metadata": {},
   "source": [
    "## Load the Data"
   ]
  },
  {
   "cell_type": "code",
   "execution_count": 320,
   "metadata": {},
   "outputs": [],
   "source": [
    "df = pd.read_csv(\"test.csv\")"
   ]
  },
  {
   "cell_type": "code",
   "execution_count": 321,
   "metadata": {},
   "outputs": [
    {
     "data": {
      "text/plain": [
       "(497, 33)"
      ]
     },
     "execution_count": 321,
     "metadata": {},
     "output_type": "execute_result"
    }
   ],
   "source": [
    "df.shape"
   ]
  },
  {
   "cell_type": "code",
   "execution_count": 322,
   "metadata": {
    "scrolled": true
   },
   "outputs": [
    {
     "data": {
      "text/html": [
       "<div>\n",
       "<style scoped>\n",
       "    .dataframe tbody tr th:only-of-type {\n",
       "        vertical-align: middle;\n",
       "    }\n",
       "\n",
       "    .dataframe tbody tr th {\n",
       "        vertical-align: top;\n",
       "    }\n",
       "\n",
       "    .dataframe thead th {\n",
       "        text-align: right;\n",
       "    }\n",
       "</style>\n",
       "<table border=\"1\" class=\"dataframe\">\n",
       "  <thead>\n",
       "    <tr style=\"text-align: right;\">\n",
       "      <th></th>\n",
       "      <th>Unnamed: 0</th>\n",
       "      <th>Parking</th>\n",
       "      <th>Swimming Pool</th>\n",
       "      <th>Restaurant</th>\n",
       "      <th>Room Service</th>\n",
       "      <th>Fitness Centre</th>\n",
       "      <th>Spa &amp; Wellness Centre</th>\n",
       "      <th>Business Centre</th>\n",
       "      <th>Facilities for Disabled</th>\n",
       "      <th>Airport Shuttle</th>\n",
       "      <th>...</th>\n",
       "      <th>Highspeed Internet</th>\n",
       "      <th>Airconditioning</th>\n",
       "      <th>Safe/Vault</th>\n",
       "      <th>Tennis Court</th>\n",
       "      <th>Indoor Pool</th>\n",
       "      <th>Pet-friendly</th>\n",
       "      <th>Casino</th>\n",
       "      <th>Golfcourse</th>\n",
       "      <th>Beach Access</th>\n",
       "      <th>Ski-In Ski-Out</th>\n",
       "    </tr>\n",
       "  </thead>\n",
       "  <tbody>\n",
       "    <tr>\n",
       "      <th>0</th>\n",
       "      <td>0</td>\n",
       "      <td>1.0</td>\n",
       "      <td>1.0</td>\n",
       "      <td>1.0</td>\n",
       "      <td>1.0</td>\n",
       "      <td>1.0</td>\n",
       "      <td>1.0</td>\n",
       "      <td>1.0</td>\n",
       "      <td>1.0</td>\n",
       "      <td>1.0</td>\n",
       "      <td>...</td>\n",
       "      <td>0.0</td>\n",
       "      <td>0.0</td>\n",
       "      <td>0.0</td>\n",
       "      <td>0.0</td>\n",
       "      <td>0.0</td>\n",
       "      <td>0.0</td>\n",
       "      <td>0.0</td>\n",
       "      <td>0.0</td>\n",
       "      <td>0.0</td>\n",
       "      <td>0.0</td>\n",
       "    </tr>\n",
       "    <tr>\n",
       "      <th>1</th>\n",
       "      <td>1</td>\n",
       "      <td>0.0</td>\n",
       "      <td>0.0</td>\n",
       "      <td>1.0</td>\n",
       "      <td>1.0</td>\n",
       "      <td>1.0</td>\n",
       "      <td>0.0</td>\n",
       "      <td>0.0</td>\n",
       "      <td>0.0</td>\n",
       "      <td>0.0</td>\n",
       "      <td>...</td>\n",
       "      <td>1.0</td>\n",
       "      <td>1.0</td>\n",
       "      <td>0.0</td>\n",
       "      <td>0.0</td>\n",
       "      <td>0.0</td>\n",
       "      <td>0.0</td>\n",
       "      <td>0.0</td>\n",
       "      <td>0.0</td>\n",
       "      <td>0.0</td>\n",
       "      <td>0.0</td>\n",
       "    </tr>\n",
       "  </tbody>\n",
       "</table>\n",
       "<p>2 rows × 33 columns</p>\n",
       "</div>"
      ],
      "text/plain": [
       "   Unnamed: 0  Parking  Swimming Pool  Restaurant  Room Service  \\\n",
       "0           0      1.0            1.0         1.0           1.0   \n",
       "1           1      0.0            0.0         1.0           1.0   \n",
       "\n",
       "   Fitness Centre  Spa & Wellness Centre  Business Centre  \\\n",
       "0             1.0                    1.0              1.0   \n",
       "1             1.0                    0.0              0.0   \n",
       "\n",
       "   Facilities for Disabled  Airport Shuttle  ...  Highspeed Internet  \\\n",
       "0                      1.0              1.0  ...                 0.0   \n",
       "1                      0.0              0.0  ...                 1.0   \n",
       "\n",
       "   Airconditioning  Safe/Vault  Tennis Court  Indoor Pool  Pet-friendly  \\\n",
       "0              0.0         0.0           0.0          0.0           0.0   \n",
       "1              1.0         0.0           0.0          0.0           0.0   \n",
       "\n",
       "   Casino  Golfcourse  Beach Access  Ski-In Ski-Out  \n",
       "0     0.0         0.0           0.0             0.0  \n",
       "1     0.0         0.0           0.0             0.0  \n",
       "\n",
       "[2 rows x 33 columns]"
      ]
     },
     "execution_count": 322,
     "metadata": {},
     "output_type": "execute_result"
    }
   ],
   "source": [
    "df.head(2)"
   ]
  },
  {
   "cell_type": "markdown",
   "metadata": {},
   "source": [
    "## Preprocess the Data"
   ]
  },
  {
   "cell_type": "markdown",
   "metadata": {},
   "source": [
    "#### 1. Simple EDA + Data Quality checking"
   ]
  },
  {
   "cell_type": "code",
   "execution_count": 323,
   "metadata": {},
   "outputs": [
    {
     "data": {
      "text/html": [
       "<div>\n",
       "<style scoped>\n",
       "    .dataframe tbody tr th:only-of-type {\n",
       "        vertical-align: middle;\n",
       "    }\n",
       "\n",
       "    .dataframe tbody tr th {\n",
       "        vertical-align: top;\n",
       "    }\n",
       "\n",
       "    .dataframe thead th {\n",
       "        text-align: right;\n",
       "    }\n",
       "</style>\n",
       "<table border=\"1\" class=\"dataframe\">\n",
       "  <thead>\n",
       "    <tr style=\"text-align: right;\">\n",
       "      <th></th>\n",
       "      <th>Unnamed: 0</th>\n",
       "      <th>Parking</th>\n",
       "      <th>Swimming Pool</th>\n",
       "      <th>Restaurant</th>\n",
       "      <th>Room Service</th>\n",
       "      <th>Fitness Centre</th>\n",
       "      <th>Spa &amp; Wellness Centre</th>\n",
       "      <th>Business Centre</th>\n",
       "      <th>Facilities for Disabled</th>\n",
       "      <th>Airport Shuttle</th>\n",
       "      <th>...</th>\n",
       "      <th>Highspeed Internet</th>\n",
       "      <th>Airconditioning</th>\n",
       "      <th>Safe/Vault</th>\n",
       "      <th>Tennis Court</th>\n",
       "      <th>Indoor Pool</th>\n",
       "      <th>Pet-friendly</th>\n",
       "      <th>Casino</th>\n",
       "      <th>Golfcourse</th>\n",
       "      <th>Beach Access</th>\n",
       "      <th>Ski-In Ski-Out</th>\n",
       "    </tr>\n",
       "  </thead>\n",
       "  <tbody>\n",
       "  </tbody>\n",
       "</table>\n",
       "<p>0 rows × 33 columns</p>\n",
       "</div>"
      ],
      "text/plain": [
       "Empty DataFrame\n",
       "Columns: [Unnamed: 0, Parking, Swimming Pool, Restaurant, Room Service, Fitness Centre, Spa & Wellness Centre, Business Centre, Facilities for Disabled, Airport Shuttle, Non-smoking Rooms, Babysitting/Child Services, Meeting/Banquet Facilities, Car Rental, Breakfast Buffet, Bar/Lounge, Kids Activities, Game Room, Dry Cleaning, Valet Parking, name, rate, review, Highspeed Internet, Airconditioning, Safe/Vault, Tennis Court, Indoor Pool, Pet-friendly, Casino, Golfcourse, Beach Access, Ski-In Ski-Out]\n",
       "Index: []\n",
       "\n",
       "[0 rows x 33 columns]"
      ]
     },
     "execution_count": 323,
     "metadata": {},
     "output_type": "execute_result"
    }
   ],
   "source": [
    "# uniqeness\n",
    "df.drop_duplicates(inplace=True)\n",
    "df[df.duplicated()]"
   ]
  },
  {
   "cell_type": "code",
   "execution_count": 324,
   "metadata": {},
   "outputs": [
    {
     "data": {
      "text/plain": [
       "Unnamed: 0                    0\n",
       "Parking                       0\n",
       "Swimming Pool                 0\n",
       "Restaurant                    0\n",
       "Room Service                  0\n",
       "Fitness Centre                0\n",
       "Spa & Wellness Centre         0\n",
       "Business Centre               0\n",
       "Facilities for Disabled       0\n",
       "Airport Shuttle               0\n",
       "Non-smoking Rooms             0\n",
       "Babysitting/Child Services    0\n",
       "Meeting/Banquet Facilities    0\n",
       "Car Rental                    0\n",
       "Breakfast Buffet              0\n",
       "Bar/Lounge                    0\n",
       "Kids Activities               0\n",
       "Game Room                     0\n",
       "Dry Cleaning                  0\n",
       "Valet Parking                 0\n",
       "name                          0\n",
       "rate                          0\n",
       "review                        0\n",
       "Highspeed Internet            0\n",
       "Airconditioning               0\n",
       "Safe/Vault                    0\n",
       "Tennis Court                  0\n",
       "Indoor Pool                   0\n",
       "Pet-friendly                  0\n",
       "Casino                        0\n",
       "Golfcourse                    0\n",
       "Beach Access                  0\n",
       "Ski-In Ski-Out                0\n",
       "dtype: int64"
      ]
     },
     "execution_count": 324,
     "metadata": {},
     "output_type": "execute_result"
    }
   ],
   "source": [
    "# Completeness\n",
    "df.isnull().sum()"
   ]
  },
  {
   "cell_type": "code",
   "execution_count": 325,
   "metadata": {},
   "outputs": [
    {
     "data": {
      "text/plain": [
       "Unnamed: 0                      int64\n",
       "Parking                       float64\n",
       "Swimming Pool                 float64\n",
       "Restaurant                    float64\n",
       "Room Service                  float64\n",
       "Fitness Centre                float64\n",
       "Spa & Wellness Centre         float64\n",
       "Business Centre               float64\n",
       "Facilities for Disabled       float64\n",
       "Airport Shuttle               float64\n",
       "Non-smoking Rooms             float64\n",
       "Babysitting/Child Services    float64\n",
       "Meeting/Banquet Facilities    float64\n",
       "Car Rental                    float64\n",
       "Breakfast Buffet              float64\n",
       "Bar/Lounge                    float64\n",
       "Kids Activities               float64\n",
       "Game Room                     float64\n",
       "Dry Cleaning                  float64\n",
       "Valet Parking                 float64\n",
       "name                           object\n",
       "rate                          float64\n",
       "review                          int64\n",
       "Highspeed Internet            float64\n",
       "Airconditioning               float64\n",
       "Safe/Vault                    float64\n",
       "Tennis Court                  float64\n",
       "Indoor Pool                   float64\n",
       "Pet-friendly                  float64\n",
       "Casino                        float64\n",
       "Golfcourse                    float64\n",
       "Beach Access                  float64\n",
       "Ski-In Ski-Out                float64\n",
       "dtype: object"
      ]
     },
     "execution_count": 325,
     "metadata": {},
     "output_type": "execute_result"
    }
   ],
   "source": [
    "# Accurecy types\n",
    "df.dtypes"
   ]
  },
  {
   "cell_type": "markdown",
   "metadata": {},
   "source": [
    "#### 2. Feature engineering"
   ]
  },
  {
   "cell_type": "markdown",
   "metadata": {},
   "source": [
    "1. Feature scaling\n",
    "2. Aggregation\n",
    "3. One hot coding"
   ]
  },
  {
   "cell_type": "code",
   "execution_count": 326,
   "metadata": {},
   "outputs": [],
   "source": [
    "numeric_col = [col for col in df.columns if df[col].dtype != 'object']\n",
    "cate_col = [col for col in df.columns if df[col].dtype == 'object']        "
   ]
  },
  {
   "cell_type": "code",
   "execution_count": 327,
   "metadata": {},
   "outputs": [],
   "source": [
    "# one hot coding\n",
    "df = pd.get_dummies(df, columns=cate_col)"
   ]
  },
  {
   "cell_type": "code",
   "execution_count": 328,
   "metadata": {},
   "outputs": [
    {
     "data": {
      "text/plain": [
       "(497, 274)"
      ]
     },
     "execution_count": 328,
     "metadata": {},
     "output_type": "execute_result"
    }
   ],
   "source": [
    "df.shape"
   ]
  },
  {
   "cell_type": "code",
   "execution_count": 329,
   "metadata": {},
   "outputs": [
    {
     "data": {
      "text/html": [
       "<div>\n",
       "<style scoped>\n",
       "    .dataframe tbody tr th:only-of-type {\n",
       "        vertical-align: middle;\n",
       "    }\n",
       "\n",
       "    .dataframe tbody tr th {\n",
       "        vertical-align: top;\n",
       "    }\n",
       "\n",
       "    .dataframe thead th {\n",
       "        text-align: right;\n",
       "    }\n",
       "</style>\n",
       "<table border=\"1\" class=\"dataframe\">\n",
       "  <thead>\n",
       "    <tr style=\"text-align: right;\">\n",
       "      <th></th>\n",
       "      <th>Unnamed: 0</th>\n",
       "      <th>Parking</th>\n",
       "      <th>Swimming Pool</th>\n",
       "      <th>Restaurant</th>\n",
       "      <th>Room Service</th>\n",
       "      <th>Fitness Centre</th>\n",
       "      <th>Spa &amp; Wellness Centre</th>\n",
       "      <th>Business Centre</th>\n",
       "      <th>Facilities for Disabled</th>\n",
       "      <th>Airport Shuttle</th>\n",
       "      <th>...</th>\n",
       "      <th>name_Tooq Suites</th>\n",
       "      <th>name_Tura Hotel</th>\n",
       "      <th>name_Villa Palma Compound</th>\n",
       "      <th>name_Vivienda Hotel Villas Granada</th>\n",
       "      <th>name_Voyage Hotel</th>\n",
       "      <th>name_Voyage Residence</th>\n",
       "      <th>name_ibis Riyadh Olaya Street</th>\n",
       "      <th>name_msharef almoden hotel</th>\n",
       "      <th>name_silvana aparthotel</th>\n",
       "      <th>name_voco Riyadh An IHG Hotel</th>\n",
       "    </tr>\n",
       "  </thead>\n",
       "  <tbody>\n",
       "    <tr>\n",
       "      <th>0</th>\n",
       "      <td>0</td>\n",
       "      <td>1.0</td>\n",
       "      <td>1.0</td>\n",
       "      <td>1.0</td>\n",
       "      <td>1.0</td>\n",
       "      <td>1.0</td>\n",
       "      <td>1.0</td>\n",
       "      <td>1.0</td>\n",
       "      <td>1.0</td>\n",
       "      <td>1.0</td>\n",
       "      <td>...</td>\n",
       "      <td>False</td>\n",
       "      <td>False</td>\n",
       "      <td>False</td>\n",
       "      <td>False</td>\n",
       "      <td>False</td>\n",
       "      <td>False</td>\n",
       "      <td>False</td>\n",
       "      <td>False</td>\n",
       "      <td>False</td>\n",
       "      <td>True</td>\n",
       "    </tr>\n",
       "    <tr>\n",
       "      <th>1</th>\n",
       "      <td>1</td>\n",
       "      <td>0.0</td>\n",
       "      <td>0.0</td>\n",
       "      <td>1.0</td>\n",
       "      <td>1.0</td>\n",
       "      <td>1.0</td>\n",
       "      <td>0.0</td>\n",
       "      <td>0.0</td>\n",
       "      <td>0.0</td>\n",
       "      <td>0.0</td>\n",
       "      <td>...</td>\n",
       "      <td>False</td>\n",
       "      <td>False</td>\n",
       "      <td>False</td>\n",
       "      <td>False</td>\n",
       "      <td>False</td>\n",
       "      <td>False</td>\n",
       "      <td>False</td>\n",
       "      <td>False</td>\n",
       "      <td>False</td>\n",
       "      <td>False</td>\n",
       "    </tr>\n",
       "  </tbody>\n",
       "</table>\n",
       "<p>2 rows × 274 columns</p>\n",
       "</div>"
      ],
      "text/plain": [
       "   Unnamed: 0  Parking  Swimming Pool  Restaurant  Room Service  \\\n",
       "0           0      1.0            1.0         1.0           1.0   \n",
       "1           1      0.0            0.0         1.0           1.0   \n",
       "\n",
       "   Fitness Centre  Spa & Wellness Centre  Business Centre  \\\n",
       "0             1.0                    1.0              1.0   \n",
       "1             1.0                    0.0              0.0   \n",
       "\n",
       "   Facilities for Disabled  Airport Shuttle  ...  name_Tooq Suites  \\\n",
       "0                      1.0              1.0  ...             False   \n",
       "1                      0.0              0.0  ...             False   \n",
       "\n",
       "   name_Tura Hotel  name_Villa Palma Compound  \\\n",
       "0            False                      False   \n",
       "1            False                      False   \n",
       "\n",
       "   name_Vivienda Hotel Villas Granada  name_Voyage Hotel  \\\n",
       "0                               False              False   \n",
       "1                               False              False   \n",
       "\n",
       "   name_Voyage Residence  name_ibis Riyadh Olaya Street  \\\n",
       "0                  False                          False   \n",
       "1                  False                          False   \n",
       "\n",
       "   name_msharef almoden hotel  name_silvana aparthotel  \\\n",
       "0                       False                    False   \n",
       "1                       False                    False   \n",
       "\n",
       "   name_voco Riyadh An IHG Hotel  \n",
       "0                           True  \n",
       "1                          False  \n",
       "\n",
       "[2 rows x 274 columns]"
      ]
     },
     "execution_count": 329,
     "metadata": {},
     "output_type": "execute_result"
    }
   ],
   "source": [
    "df.head(2)"
   ]
  },
  {
   "cell_type": "code",
   "execution_count": 330,
   "metadata": {},
   "outputs": [],
   "source": [
    "df.drop(columns=\"Unnamed: 0\" ,inplace = True)"
   ]
  },
  {
   "cell_type": "code",
   "execution_count": 331,
   "metadata": {},
   "outputs": [
    {
     "name": "stdout",
     "output_type": "stream",
     "text": [
      "rate\n",
      "Good_Rate     198\n",
      "Low_Rate      168\n",
      "Hight_Rate    131\n",
      "Name: count, dtype: int64\n"
     ]
    }
   ],
   "source": [
    "# Calculate the 35th and 75th percentiles of the price\n",
    "p35 = df['rate'].quantile(0.35)\n",
    "p75 = df['rate'].quantile(0.75)\n",
    "\n",
    "# Function to categorize prices\n",
    "def categorize_price(price):\n",
    "    if price < p35:\n",
    "        return 'Low_Rate'\n",
    "    elif price < p75:\n",
    "        return 'Good_Rate'\n",
    "    else:\n",
    "        return 'Hight_Rate'\n",
    "\n",
    "# Apply the function to create a new column\n",
    "df['rate'] = df['rate'].apply(categorize_price)\n",
    "\n",
    "# df.drop('Rate', axis=1, inplace=True)\n",
    "\n",
    "# Verify the distribution of the new categories\n",
    "print(df['rate'].value_counts())"
   ]
  },
  {
   "cell_type": "code",
   "execution_count": 332,
   "metadata": {},
   "outputs": [
    {
     "data": {
      "text/plain": [
       "(np.float64(6.3), np.float64(8.2))"
      ]
     },
     "execution_count": 332,
     "metadata": {},
     "output_type": "execute_result"
    }
   ],
   "source": [
    "p35, p75"
   ]
  },
  {
   "cell_type": "code",
   "execution_count": 333,
   "metadata": {},
   "outputs": [],
   "source": [
    "#df['car_price_category'] "
   ]
  },
  {
   "cell_type": "code",
   "execution_count": 334,
   "metadata": {},
   "outputs": [],
   "source": [
    "encoder = LabelEncoder()\n",
    "df['rate'] = encoder.fit_transform(df['rate'])  "
   ]
  },
  {
   "cell_type": "markdown",
   "metadata": {},
   "source": [
    "#### 3. Feature selection"
   ]
  },
  {
   "cell_type": "code",
   "execution_count": 335,
   "metadata": {},
   "outputs": [],
   "source": [
    "# sns.heatmap(df.corr(), annot=True);"
   ]
  },
  {
   "cell_type": "code",
   "execution_count": 336,
   "metadata": {},
   "outputs": [
    {
     "name": "stdout",
     "output_type": "stream",
     "text": [
      "rate                                   1.000000\n",
      "name_Amber Hospitality Al Nafel        0.124874\n",
      "name_Alyaa Home                        0.111577\n",
      "name_Al Muteb Suites Heritage Hotel    0.111577\n",
      "name_The O Tower Residence             0.111577\n",
      "                                         ...   \n",
      "Airconditioning                       -0.336194\n",
      "Highspeed Internet                    -0.346129\n",
      "Airport Shuttle                       -0.351429\n",
      "Fitness Centre                        -0.375415\n",
      "Room Service                          -0.474687\n",
      "Name: rate, Length: 273, dtype: float64\n"
     ]
    }
   ],
   "source": [
    "correlation = df.corr(numeric_only=True)\n",
    "#print(correlation['Price'].sort_values(ascending=False))\n",
    "print(correlation['rate'].sort_values(ascending=False))"
   ]
  },
  {
   "cell_type": "code",
   "execution_count": 337,
   "metadata": {},
   "outputs": [
    {
     "data": {
      "text/plain": [
       "Index(['Swimming Pool', 'Room Service', 'Fitness Centre', 'Airport Shuttle',\n",
       "       'rate', 'Highspeed Internet', 'Airconditioning'],\n",
       "      dtype='object')"
      ]
     },
     "execution_count": 337,
     "metadata": {},
     "output_type": "execute_result"
    }
   ],
   "source": [
    "# Set the correlation threshold\n",
    "threshold = 0.3  # You can change this value based on your requirement\n",
    "\n",
    "# Filter the correlations\n",
    "# We use `abs()` for absolute value to consider both strong positive and negative correlations\n",
    "selected_features = correlation[abs(correlation['rate']) > \\\n",
    "threshold]['rate'].index\n",
    "selected_features"
   ]
  },
  {
   "cell_type": "code",
   "execution_count": 338,
   "metadata": {},
   "outputs": [],
   "source": [
    "df = df[selected_features]\n"
   ]
  },
  {
   "cell_type": "markdown",
   "metadata": {},
   "source": [
    "#### 4. Prepare train and test data"
   ]
  },
  {
   "cell_type": "code",
   "execution_count": 339,
   "metadata": {},
   "outputs": [],
   "source": [
    "# Prepare data\n",
    "X = df.drop(['rate'], axis=1)\n",
    "\n",
    "\n",
    "# sacle the data\n",
    "scaler = StandardScaler()\n",
    "X_scaled = scaler.fit_transform(X)"
   ]
  },
  {
   "cell_type": "code",
   "execution_count": 340,
   "metadata": {},
   "outputs": [
    {
     "data": {
      "text/plain": [
       "(497, 6)"
      ]
     },
     "execution_count": 340,
     "metadata": {},
     "output_type": "execute_result"
    }
   ],
   "source": [
    "X.shape"
   ]
  },
  {
   "cell_type": "markdown",
   "metadata": {},
   "source": [
    "## Buliding the Model"
   ]
  },
  {
   "cell_type": "code",
   "execution_count": 341,
   "metadata": {},
   "outputs": [],
   "source": [
    "wcss = []\n",
    "for i in range(1, 20):  # Test 1 to 10 clusters\n",
    "    kmeans = KMeans(n_clusters=i,\n",
    "                    init='k-means++',\n",
    "                    max_iter=300,\n",
    "                    n_init=10,\n",
    "                    random_state=0)\n",
    "    kmeans.fit(X_scaled)\n",
    "    wcss.append(kmeans.inertia_)  # inertia_ is the WCSS\n"
   ]
  },
  {
   "cell_type": "code",
   "execution_count": 342,
   "metadata": {},
   "outputs": [
    {
     "data": {
      "image/png": "[encoded data removed]",
      "text/plain": [
       "<Figure size 1000x600 with 1 Axes>"
      ]
     },
     "metadata": {},
     "output_type": "display_data"
    }
   ],
   "source": [
    "# 3. Plot the Elbow Curve\n",
    "plt.figure(figsize=(10, 6))\n",
    "plt.plot(range(1, 20), wcss,  marker='o', linestyle='-', color='b')\n",
    "plt.title('Elbow Method')\n",
    "plt.xlabel('Number of clusters')\n",
    "plt.ylabel('WCSS')\n",
    "plt.grid(True)\n",
    "plt.show()"
   ]
  },
  {
   "cell_type": "code",
   "execution_count": 343,
   "metadata": {},
   "outputs": [],
   "source": [
    "# Optional: Apply k-Means using the optimal number of clusters\n",
    "optimal_clusters = 5 # This might change based on your actual elbow curve analysis\n",
    "model = KMeans(n_clusters=optimal_clusters, init='k-means++', max_iter=300, n_init=10, random_state=0)"
   ]
  },
  {
   "cell_type": "markdown",
   "metadata": {},
   "source": [
    "## Train and Test the Model"
   ]
  },
  {
   "cell_type": "code",
   "execution_count": 344,
   "metadata": {},
   "outputs": [],
   "source": [
    "# Fit the model on the training data\n",
    "y_pred = model.fit_predict(X_scaled)"
   ]
  },
  {
   "cell_type": "markdown",
   "metadata": {},
   "source": [
    "## Evaluating the Model "
   ]
  },
  {
   "cell_type": "code",
   "execution_count": 345,
   "metadata": {},
   "outputs": [
    {
     "data": {
      "text/html": [
       "<div>\n",
       "<style scoped>\n",
       "    .dataframe tbody tr th:only-of-type {\n",
       "        vertical-align: middle;\n",
       "    }\n",
       "\n",
       "    .dataframe tbody tr th {\n",
       "        vertical-align: top;\n",
       "    }\n",
       "\n",
       "    .dataframe thead th {\n",
       "        text-align: right;\n",
       "    }\n",
       "</style>\n",
       "<table border=\"1\" class=\"dataframe\">\n",
       "  <thead>\n",
       "    <tr style=\"text-align: right;\">\n",
       "      <th></th>\n",
       "      <th>Swimming Pool</th>\n",
       "      <th>Room Service</th>\n",
       "      <th>Fitness Centre</th>\n",
       "      <th>Airport Shuttle</th>\n",
       "      <th>Highspeed Internet</th>\n",
       "      <th>Airconditioning</th>\n",
       "    </tr>\n",
       "  </thead>\n",
       "  <tbody>\n",
       "    <tr>\n",
       "      <th>0</th>\n",
       "      <td>1.0</td>\n",
       "      <td>1.0</td>\n",
       "      <td>1.0</td>\n",
       "      <td>1.0</td>\n",
       "      <td>0.0</td>\n",
       "      <td>0.0</td>\n",
       "    </tr>\n",
       "    <tr>\n",
       "      <th>1</th>\n",
       "      <td>0.0</td>\n",
       "      <td>1.0</td>\n",
       "      <td>1.0</td>\n",
       "      <td>0.0</td>\n",
       "      <td>1.0</td>\n",
       "      <td>1.0</td>\n",
       "    </tr>\n",
       "  </tbody>\n",
       "</table>\n",
       "</div>"
      ],
      "text/plain": [
       "   Swimming Pool  Room Service  Fitness Centre  Airport Shuttle  \\\n",
       "0            1.0           1.0             1.0              1.0   \n",
       "1            0.0           1.0             1.0              0.0   \n",
       "\n",
       "   Highspeed Internet  Airconditioning  \n",
       "0                 0.0              0.0  \n",
       "1                 1.0              1.0  "
      ]
     },
     "execution_count": 345,
     "metadata": {},
     "output_type": "execute_result"
    }
   ],
   "source": [
    "X.head(2)"
   ]
  },
  {
   "cell_type": "code",
   "execution_count": 346,
   "metadata": {},
   "outputs": [
    {
     "data": {
      "image/png": "[encoded data removed]",
      "text/plain": [
       "<Figure size 640x480 with 1 Axes>"
      ]
     },
     "metadata": {},
     "output_type": "display_data"
    }
   ],
   "source": [
    "# Plotting the clusters with optimal number\n",
    "plt.scatter(X_scaled[:, 2], X_scaled[:, 3], c=y_pred, s=50, cmap='viridis')\n",
    "\n",
    "centers = model.cluster_centers_\n",
    "plt.scatter(centers[:, 2], centers[:, 3], c='red', s=200, alpha=0.75, marker='X')\n",
    "plt.title(f'K-Means Clustering with {optimal_clusters} Clusters')\n",
    "plt.xlabel('Feature 1')\n",
    "plt.ylabel('Feature 2')\n",
    "plt.show()"
   ]
  },
  {
   "cell_type": "code",
   "execution_count": 347,
   "metadata": {},
   "outputs": [],
   "source": [
    "X['kmeans'] = y_pred"
   ]
  },
  {
   "cell_type": "code",
   "execution_count": 348,
   "metadata": {},
   "outputs": [
    {
     "data": {
      "text/plain": [
       "kmeans\n",
       "1    117\n",
       "3    105\n",
       "2    105\n",
       "4     91\n",
       "0     79\n",
       "Name: count, dtype: int64"
      ]
     },
     "execution_count": 348,
     "metadata": {},
     "output_type": "execute_result"
    }
   ],
   "source": [
    "X['kmeans'].value_counts()"
   ]
  },
  {
   "cell_type": "code",
   "execution_count": 349,
   "metadata": {},
   "outputs": [],
   "source": [
    "# sns.scatterplot(data = X , x = 'Parking', y = 'Swimming Pool', hue = 'kmeans')"
   ]
  },
  {
   "cell_type": "code",
   "execution_count": 350,
   "metadata": {},
   "outputs": [
    {
     "data": {
      "text/plain": [
       "np.float64(0.6073599776923999)"
      ]
     },
     "execution_count": 350,
     "metadata": {},
     "output_type": "execute_result"
    }
   ],
   "source": [
    "from sklearn.metrics import silhouette_score\n",
    "silhouette_avg = silhouette_score(X, y_pred)\n",
    "silhouette_avg"
   ]
  },
  {
   "cell_type": "code",
   "execution_count": 351,
   "metadata": {},
   "outputs": [],
   "source": [
    "# sns.scatterplot(data = X , x = 'Mileage', y = 'Type_Accent', hue = 'kmeans')"
   ]
  },
  {
   "cell_type": "code",
   "execution_count": 352,
   "metadata": {},
   "outputs": [],
   "source": [
    "# from sklearn.metrics import silhouette_score\n",
    "# silhouette_avg = silhouette_score(X, model)\n",
    "# silhouette_avg"
   ]
  },
  {
   "cell_type": "code",
   "execution_count": null,
   "metadata": {},
   "outputs": [],
   "source": []
  }
 ],
 "metadata": {
  "kernelspec": {
   "display_name": "Python 3",
   "language": "python",
   "name": "python3"
  },
  "language_info": {
   "codemirror_mode": {
    "name": "ipython",
    "version": 3
   },
   "file_extension": ".py",
   "mimetype": "text/x-python",
   "name": "python",
   "nbconvert_exporter": "python",
   "pygments_lexer": "ipython3",
   "version": "3.12.5"
  }
 },
 "nbformat": 4,
 "nbformat_minor": 4
}
