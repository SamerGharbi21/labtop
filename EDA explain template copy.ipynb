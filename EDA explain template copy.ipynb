{
 "cells": [
  {
   "cell_type": "code",
   "execution_count": 247,
   "id": "e69c4ba1-85f3-4a02-ae37-c64347a01803",
   "metadata": {},
   "outputs": [],
   "source": [
    "#Import all relevant libraries\n",
    "import numpy as np\n",
    "import pandas as pd\n",
    "import matplotlib.pyplot as plt\n",
    "import seaborn as sns\n",
    "from scipy.stats import zscore\n",
    "import plotly.express as px\n",
    "import plotly.graph_objects as go\n",
    "from sklearn import preprocessing\n",
    "from sklearn.preprocessing import OneHotEncoder\n",
    "\n",
    "%matplotlib inline"
   ]
  },
  {
   "cell_type": "markdown",
   "id": "e395e8bf-b530-4720-8d0f-26811e927d6e",
   "metadata": {},
   "source": [
    "## Loading the data\n",
    "We can now load the dataset into pandas using the read_csv() function. This converts the CSV file into a Pandas dataframe."
   ]
  },
  {
   "cell_type": "code",
   "execution_count": 248,
   "id": "cf4030b0-aa7f-4bd7-8e9c-c1b7f4d202d0",
   "metadata": {},
   "outputs": [],
   "source": [
    "df = pd.read_csv('allregoion.csv')"
   ]
  },
  {
   "cell_type": "markdown",
   "id": "ca5ed983-0f72-43eb-8168-6fafd48c562e",
   "metadata": {},
   "source": [
    "### Viewing the dataframe\n",
    "We can get a quick sense of the size of our dataset by using the shape method. This returns a tuple with the number of rows and columns in the dataset."
   ]
  },
  {
   "cell_type": "code",
   "execution_count": 249,
   "id": "98813d95",
   "metadata": {},
   "outputs": [
    {
     "data": {
      "text/html": [
       "<div>\n",
       "<style scoped>\n",
       "    .dataframe tbody tr th:only-of-type {\n",
       "        vertical-align: middle;\n",
       "    }\n",
       "\n",
       "    .dataframe tbody tr th {\n",
       "        vertical-align: top;\n",
       "    }\n",
       "\n",
       "    .dataframe thead th {\n",
       "        text-align: right;\n",
       "    }\n",
       "</style>\n",
       "<table border=\"1\" class=\"dataframe\">\n",
       "  <thead>\n",
       "    <tr style=\"text-align: right;\">\n",
       "      <th></th>\n",
       "      <th>Unnamed: 0.1</th>\n",
       "      <th>Unnamed: 0</th>\n",
       "      <th>Title</th>\n",
       "      <th>Rating</th>\n",
       "      <th>Price</th>\n",
       "      <th>region</th>\n",
       "      <th>Airport Shuttle</th>\n",
       "      <th>Business Centre</th>\n",
       "      <th>Facilities for Disabled</th>\n",
       "      <th>Fitness Centre</th>\n",
       "      <th>Restaurant</th>\n",
       "      <th>Room Service</th>\n",
       "      <th>Spa</th>\n",
       "      <th>Swimming Pool</th>\n",
       "      <th>Wellness Centre</th>\n",
       "    </tr>\n",
       "  </thead>\n",
       "  <tbody>\n",
       "    <tr>\n",
       "      <th>0</th>\n",
       "      <td>0</td>\n",
       "      <td>0</td>\n",
       "      <td>Radisson Blu Hotel, Jeddah Al Salam</td>\n",
       "      <td>8.7</td>\n",
       "      <td>540</td>\n",
       "      <td>Jeddah</td>\n",
       "      <td>0</td>\n",
       "      <td>0</td>\n",
       "      <td>0</td>\n",
       "      <td>0</td>\n",
       "      <td>0</td>\n",
       "      <td>0</td>\n",
       "      <td>0</td>\n",
       "      <td>1</td>\n",
       "      <td>0</td>\n",
       "    </tr>\n",
       "    <tr>\n",
       "      <th>1</th>\n",
       "      <td>1</td>\n",
       "      <td>1</td>\n",
       "      <td>Holiday Inn JEDDAH GATEWAY</td>\n",
       "      <td>8.4</td>\n",
       "      <td>614</td>\n",
       "      <td>Jeddah</td>\n",
       "      <td>0</td>\n",
       "      <td>0</td>\n",
       "      <td>0</td>\n",
       "      <td>0</td>\n",
       "      <td>0</td>\n",
       "      <td>0</td>\n",
       "      <td>0</td>\n",
       "      <td>1</td>\n",
       "      <td>0</td>\n",
       "    </tr>\n",
       "    <tr>\n",
       "      <th>2</th>\n",
       "      <td>2</td>\n",
       "      <td>2</td>\n",
       "      <td>Golden New Palace</td>\n",
       "      <td>8.2</td>\n",
       "      <td>193</td>\n",
       "      <td>Jeddah</td>\n",
       "      <td>0</td>\n",
       "      <td>0</td>\n",
       "      <td>0</td>\n",
       "      <td>0</td>\n",
       "      <td>0</td>\n",
       "      <td>0</td>\n",
       "      <td>1</td>\n",
       "      <td>0</td>\n",
       "      <td>1</td>\n",
       "    </tr>\n",
       "    <tr>\n",
       "      <th>3</th>\n",
       "      <td>3</td>\n",
       "      <td>3</td>\n",
       "      <td>Habitat Hotel All Suites - Jeddah</td>\n",
       "      <td>7.4</td>\n",
       "      <td>375</td>\n",
       "      <td>Jeddah</td>\n",
       "      <td>0</td>\n",
       "      <td>0</td>\n",
       "      <td>0</td>\n",
       "      <td>0</td>\n",
       "      <td>1</td>\n",
       "      <td>0</td>\n",
       "      <td>0</td>\n",
       "      <td>1</td>\n",
       "      <td>0</td>\n",
       "    </tr>\n",
       "    <tr>\n",
       "      <th>4</th>\n",
       "      <td>4</td>\n",
       "      <td>4</td>\n",
       "      <td>Donatello Hotel Jeddah</td>\n",
       "      <td>8.1</td>\n",
       "      <td>472</td>\n",
       "      <td>Jeddah</td>\n",
       "      <td>0</td>\n",
       "      <td>0</td>\n",
       "      <td>0</td>\n",
       "      <td>0</td>\n",
       "      <td>0</td>\n",
       "      <td>0</td>\n",
       "      <td>0</td>\n",
       "      <td>1</td>\n",
       "      <td>0</td>\n",
       "    </tr>\n",
       "    <tr>\n",
       "      <th>...</th>\n",
       "      <td>...</td>\n",
       "      <td>...</td>\n",
       "      <td>...</td>\n",
       "      <td>...</td>\n",
       "      <td>...</td>\n",
       "      <td>...</td>\n",
       "      <td>...</td>\n",
       "      <td>...</td>\n",
       "      <td>...</td>\n",
       "      <td>...</td>\n",
       "      <td>...</td>\n",
       "      <td>...</td>\n",
       "      <td>...</td>\n",
       "      <td>...</td>\n",
       "      <td>...</td>\n",
       "    </tr>\n",
       "    <tr>\n",
       "      <th>3225</th>\n",
       "      <td>3225</td>\n",
       "      <td>28</td>\n",
       "      <td>Al Dar Hotel Apartments</td>\n",
       "      <td>7.3</td>\n",
       "      <td>178</td>\n",
       "      <td>Jazan</td>\n",
       "      <td>0</td>\n",
       "      <td>0</td>\n",
       "      <td>0</td>\n",
       "      <td>0</td>\n",
       "      <td>0</td>\n",
       "      <td>1</td>\n",
       "      <td>0</td>\n",
       "      <td>0</td>\n",
       "      <td>0</td>\n",
       "    </tr>\n",
       "    <tr>\n",
       "      <th>3226</th>\n",
       "      <td>3226</td>\n",
       "      <td>29</td>\n",
       "      <td>Courtyard Jazan</td>\n",
       "      <td>8.5</td>\n",
       "      <td>450</td>\n",
       "      <td>Jazan</td>\n",
       "      <td>0</td>\n",
       "      <td>0</td>\n",
       "      <td>0</td>\n",
       "      <td>0</td>\n",
       "      <td>0</td>\n",
       "      <td>0</td>\n",
       "      <td>0</td>\n",
       "      <td>1</td>\n",
       "      <td>0</td>\n",
       "    </tr>\n",
       "    <tr>\n",
       "      <th>3227</th>\n",
       "      <td>3227</td>\n",
       "      <td>30</td>\n",
       "      <td>Msharef Al Moden Suites - Jazan</td>\n",
       "      <td>9.1</td>\n",
       "      <td>398</td>\n",
       "      <td>Jazan</td>\n",
       "      <td>0</td>\n",
       "      <td>0</td>\n",
       "      <td>0</td>\n",
       "      <td>0</td>\n",
       "      <td>0</td>\n",
       "      <td>0</td>\n",
       "      <td>0</td>\n",
       "      <td>0</td>\n",
       "      <td>0</td>\n",
       "    </tr>\n",
       "    <tr>\n",
       "      <th>3228</th>\n",
       "      <td>3228</td>\n",
       "      <td>31</td>\n",
       "      <td>Al Dar Hotel Apartments</td>\n",
       "      <td>7.3</td>\n",
       "      <td>178</td>\n",
       "      <td>Jazan</td>\n",
       "      <td>0</td>\n",
       "      <td>0</td>\n",
       "      <td>0</td>\n",
       "      <td>0</td>\n",
       "      <td>0</td>\n",
       "      <td>1</td>\n",
       "      <td>0</td>\n",
       "      <td>0</td>\n",
       "      <td>0</td>\n",
       "    </tr>\n",
       "    <tr>\n",
       "      <th>3229</th>\n",
       "      <td>3229</td>\n",
       "      <td>32</td>\n",
       "      <td>Courtyard Jazan</td>\n",
       "      <td>8.5</td>\n",
       "      <td>450</td>\n",
       "      <td>Jazan</td>\n",
       "      <td>0</td>\n",
       "      <td>0</td>\n",
       "      <td>0</td>\n",
       "      <td>0</td>\n",
       "      <td>0</td>\n",
       "      <td>0</td>\n",
       "      <td>0</td>\n",
       "      <td>1</td>\n",
       "      <td>0</td>\n",
       "    </tr>\n",
       "  </tbody>\n",
       "</table>\n",
       "<p>3230 rows × 15 columns</p>\n",
       "</div>"
      ],
      "text/plain": [
       "      Unnamed: 0.1  Unnamed: 0                                Title  Rating  \\\n",
       "0                0           0  Radisson Blu Hotel, Jeddah Al Salam     8.7   \n",
       "1                1           1           Holiday Inn JEDDAH GATEWAY     8.4   \n",
       "2                2           2                    Golden New Palace     8.2   \n",
       "3                3           3    Habitat Hotel All Suites - Jeddah     7.4   \n",
       "4                4           4               Donatello Hotel Jeddah     8.1   \n",
       "...            ...         ...                                  ...     ...   \n",
       "3225          3225          28              Al Dar Hotel Apartments     7.3   \n",
       "3226          3226          29                      Courtyard Jazan     8.5   \n",
       "3227          3227          30      Msharef Al Moden Suites - Jazan     9.1   \n",
       "3228          3228          31              Al Dar Hotel Apartments     7.3   \n",
       "3229          3229          32                      Courtyard Jazan     8.5   \n",
       "\n",
       "     Price  region  Airport Shuttle  Business Centre  Facilities for Disabled  \\\n",
       "0      540  Jeddah                0                0                        0   \n",
       "1      614  Jeddah                0                0                        0   \n",
       "2      193  Jeddah                0                0                        0   \n",
       "3      375  Jeddah                0                0                        0   \n",
       "4      472  Jeddah                0                0                        0   \n",
       "...    ...     ...              ...              ...                      ...   \n",
       "3225   178   Jazan                0                0                        0   \n",
       "3226   450   Jazan                0                0                        0   \n",
       "3227   398   Jazan                0                0                        0   \n",
       "3228   178   Jazan                0                0                        0   \n",
       "3229   450   Jazan                0                0                        0   \n",
       "\n",
       "      Fitness Centre  Restaurant  Room Service  Spa  Swimming Pool  \\\n",
       "0                  0           0             0    0              1   \n",
       "1                  0           0             0    0              1   \n",
       "2                  0           0             0    1              0   \n",
       "3                  0           1             0    0              1   \n",
       "4                  0           0             0    0              1   \n",
       "...              ...         ...           ...  ...            ...   \n",
       "3225               0           0             1    0              0   \n",
       "3226               0           0             0    0              1   \n",
       "3227               0           0             0    0              0   \n",
       "3228               0           0             1    0              0   \n",
       "3229               0           0             0    0              1   \n",
       "\n",
       "      Wellness Centre  \n",
       "0                   0  \n",
       "1                   0  \n",
       "2                   1  \n",
       "3                   0  \n",
       "4                   0  \n",
       "...               ...  \n",
       "3225                0  \n",
       "3226                0  \n",
       "3227                0  \n",
       "3228                0  \n",
       "3229                0  \n",
       "\n",
       "[3230 rows x 15 columns]"
      ]
     },
     "execution_count": 249,
     "metadata": {},
     "output_type": "execute_result"
    }
   ],
   "source": [
    "df"
   ]
  },
  {
   "cell_type": "markdown",
   "id": "bd2b5bc4-db37-4432-b666-0714afd0c4ca",
   "metadata": {},
   "source": [
    "## 1. Data Profiling:\n",
    "Data profiling is a comprehensive process of examining the data available in an existing dataset and collecting statistics and information about that data. "
   ]
  },
  {
   "cell_type": "code",
   "execution_count": 250,
   "id": "672f2081-5a2c-4908-8cbd-29519fb3cac5",
   "metadata": {},
   "outputs": [
    {
     "data": {
      "text/plain": [
       "(3230, 15)"
      ]
     },
     "execution_count": 250,
     "metadata": {},
     "output_type": "execute_result"
    }
   ],
   "source": [
    "df.shape"
   ]
  },
  {
   "cell_type": "code",
   "execution_count": 251,
   "id": "a309c680",
   "metadata": {},
   "outputs": [
    {
     "name": "stdout",
     "output_type": "stream",
     "text": [
      "<class 'pandas.core.frame.DataFrame'>\n",
      "RangeIndex: 3230 entries, 0 to 3229\n",
      "Data columns (total 15 columns):\n",
      " #   Column                   Non-Null Count  Dtype  \n",
      "---  ------                   --------------  -----  \n",
      " 0   Unnamed: 0.1             3230 non-null   int64  \n",
      " 1   Unnamed: 0               3230 non-null   int64  \n",
      " 2   Title                    3230 non-null   object \n",
      " 3   Rating                   3230 non-null   float64\n",
      " 4   Price                    3230 non-null   object \n",
      " 5   region                   3230 non-null   object \n",
      " 6   Airport Shuttle          3230 non-null   int64  \n",
      " 7   Business Centre          3230 non-null   int64  \n",
      " 8   Facilities for Disabled  3230 non-null   int64  \n",
      " 9   Fitness Centre           3230 non-null   int64  \n",
      " 10  Restaurant               3230 non-null   int64  \n",
      " 11  Room Service             3230 non-null   int64  \n",
      " 12  Spa                      3230 non-null   int64  \n",
      " 13  Swimming Pool            3230 non-null   int64  \n",
      " 14  Wellness Centre          3230 non-null   int64  \n",
      "dtypes: float64(1), int64(11), object(3)\n",
      "memory usage: 378.6+ KB\n"
     ]
    }
   ],
   "source": [
    "df.info()"
   ]
  },
  {
   "cell_type": "code",
   "execution_count": 252,
   "id": "c097a28c",
   "metadata": {},
   "outputs": [
    {
     "data": {
      "text/html": [
       "<div>\n",
       "<style scoped>\n",
       "    .dataframe tbody tr th:only-of-type {\n",
       "        vertical-align: middle;\n",
       "    }\n",
       "\n",
       "    .dataframe tbody tr th {\n",
       "        vertical-align: top;\n",
       "    }\n",
       "\n",
       "    .dataframe thead th {\n",
       "        text-align: right;\n",
       "    }\n",
       "</style>\n",
       "<table border=\"1\" class=\"dataframe\">\n",
       "  <thead>\n",
       "    <tr style=\"text-align: right;\">\n",
       "      <th></th>\n",
       "      <th>Unnamed: 0.1</th>\n",
       "      <th>Unnamed: 0</th>\n",
       "      <th>Rating</th>\n",
       "      <th>Airport Shuttle</th>\n",
       "      <th>Business Centre</th>\n",
       "      <th>Facilities for Disabled</th>\n",
       "      <th>Fitness Centre</th>\n",
       "      <th>Restaurant</th>\n",
       "      <th>Room Service</th>\n",
       "      <th>Spa</th>\n",
       "      <th>Swimming Pool</th>\n",
       "      <th>Wellness Centre</th>\n",
       "    </tr>\n",
       "  </thead>\n",
       "  <tbody>\n",
       "    <tr>\n",
       "      <th>count</th>\n",
       "      <td>3230.000000</td>\n",
       "      <td>3230.000000</td>\n",
       "      <td>3230.000000</td>\n",
       "      <td>3230.000000</td>\n",
       "      <td>3230.000000</td>\n",
       "      <td>3230.00000</td>\n",
       "      <td>3230.000000</td>\n",
       "      <td>3230.000000</td>\n",
       "      <td>3230.000000</td>\n",
       "      <td>3230.000000</td>\n",
       "      <td>3230.000000</td>\n",
       "      <td>3230.000000</td>\n",
       "    </tr>\n",
       "    <tr>\n",
       "      <th>mean</th>\n",
       "      <td>1614.500000</td>\n",
       "      <td>285.478947</td>\n",
       "      <td>7.913034</td>\n",
       "      <td>0.001858</td>\n",
       "      <td>0.008669</td>\n",
       "      <td>0.03808</td>\n",
       "      <td>0.020433</td>\n",
       "      <td>0.339628</td>\n",
       "      <td>0.180805</td>\n",
       "      <td>0.025077</td>\n",
       "      <td>0.448916</td>\n",
       "      <td>0.025077</td>\n",
       "    </tr>\n",
       "    <tr>\n",
       "      <th>std</th>\n",
       "      <td>932.565011</td>\n",
       "      <td>214.584967</td>\n",
       "      <td>0.890659</td>\n",
       "      <td>0.043066</td>\n",
       "      <td>0.092716</td>\n",
       "      <td>0.19142</td>\n",
       "      <td>0.141500</td>\n",
       "      <td>0.473656</td>\n",
       "      <td>0.384916</td>\n",
       "      <td>0.156384</td>\n",
       "      <td>0.497461</td>\n",
       "      <td>0.156384</td>\n",
       "    </tr>\n",
       "    <tr>\n",
       "      <th>min</th>\n",
       "      <td>0.000000</td>\n",
       "      <td>0.000000</td>\n",
       "      <td>4.200000</td>\n",
       "      <td>0.000000</td>\n",
       "      <td>0.000000</td>\n",
       "      <td>0.00000</td>\n",
       "      <td>0.000000</td>\n",
       "      <td>0.000000</td>\n",
       "      <td>0.000000</td>\n",
       "      <td>0.000000</td>\n",
       "      <td>0.000000</td>\n",
       "      <td>0.000000</td>\n",
       "    </tr>\n",
       "    <tr>\n",
       "      <th>25%</th>\n",
       "      <td>807.250000</td>\n",
       "      <td>110.000000</td>\n",
       "      <td>7.500000</td>\n",
       "      <td>0.000000</td>\n",
       "      <td>0.000000</td>\n",
       "      <td>0.00000</td>\n",
       "      <td>0.000000</td>\n",
       "      <td>0.000000</td>\n",
       "      <td>0.000000</td>\n",
       "      <td>0.000000</td>\n",
       "      <td>0.000000</td>\n",
       "      <td>0.000000</td>\n",
       "    </tr>\n",
       "    <tr>\n",
       "      <th>50%</th>\n",
       "      <td>1614.500000</td>\n",
       "      <td>239.500000</td>\n",
       "      <td>8.100000</td>\n",
       "      <td>0.000000</td>\n",
       "      <td>0.000000</td>\n",
       "      <td>0.00000</td>\n",
       "      <td>0.000000</td>\n",
       "      <td>0.000000</td>\n",
       "      <td>0.000000</td>\n",
       "      <td>0.000000</td>\n",
       "      <td>0.000000</td>\n",
       "      <td>0.000000</td>\n",
       "    </tr>\n",
       "    <tr>\n",
       "      <th>75%</th>\n",
       "      <td>2421.750000</td>\n",
       "      <td>426.750000</td>\n",
       "      <td>8.500000</td>\n",
       "      <td>0.000000</td>\n",
       "      <td>0.000000</td>\n",
       "      <td>0.00000</td>\n",
       "      <td>0.000000</td>\n",
       "      <td>1.000000</td>\n",
       "      <td>0.000000</td>\n",
       "      <td>0.000000</td>\n",
       "      <td>1.000000</td>\n",
       "      <td>0.000000</td>\n",
       "    </tr>\n",
       "    <tr>\n",
       "      <th>max</th>\n",
       "      <td>3229.000000</td>\n",
       "      <td>870.000000</td>\n",
       "      <td>10.000000</td>\n",
       "      <td>1.000000</td>\n",
       "      <td>1.000000</td>\n",
       "      <td>1.00000</td>\n",
       "      <td>1.000000</td>\n",
       "      <td>1.000000</td>\n",
       "      <td>1.000000</td>\n",
       "      <td>1.000000</td>\n",
       "      <td>1.000000</td>\n",
       "      <td>1.000000</td>\n",
       "    </tr>\n",
       "  </tbody>\n",
       "</table>\n",
       "</div>"
      ],
      "text/plain": [
       "       Unnamed: 0.1   Unnamed: 0       Rating  Airport Shuttle  \\\n",
       "count   3230.000000  3230.000000  3230.000000      3230.000000   \n",
       "mean    1614.500000   285.478947     7.913034         0.001858   \n",
       "std      932.565011   214.584967     0.890659         0.043066   \n",
       "min        0.000000     0.000000     4.200000         0.000000   \n",
       "25%      807.250000   110.000000     7.500000         0.000000   \n",
       "50%     1614.500000   239.500000     8.100000         0.000000   \n",
       "75%     2421.750000   426.750000     8.500000         0.000000   \n",
       "max     3229.000000   870.000000    10.000000         1.000000   \n",
       "\n",
       "       Business Centre  Facilities for Disabled  Fitness Centre   Restaurant  \\\n",
       "count      3230.000000               3230.00000     3230.000000  3230.000000   \n",
       "mean          0.008669                  0.03808        0.020433     0.339628   \n",
       "std           0.092716                  0.19142        0.141500     0.473656   \n",
       "min           0.000000                  0.00000        0.000000     0.000000   \n",
       "25%           0.000000                  0.00000        0.000000     0.000000   \n",
       "50%           0.000000                  0.00000        0.000000     0.000000   \n",
       "75%           0.000000                  0.00000        0.000000     1.000000   \n",
       "max           1.000000                  1.00000        1.000000     1.000000   \n",
       "\n",
       "       Room Service          Spa  Swimming Pool  Wellness Centre  \n",
       "count   3230.000000  3230.000000    3230.000000      3230.000000  \n",
       "mean       0.180805     0.025077       0.448916         0.025077  \n",
       "std        0.384916     0.156384       0.497461         0.156384  \n",
       "min        0.000000     0.000000       0.000000         0.000000  \n",
       "25%        0.000000     0.000000       0.000000         0.000000  \n",
       "50%        0.000000     0.000000       0.000000         0.000000  \n",
       "75%        0.000000     0.000000       1.000000         0.000000  \n",
       "max        1.000000     1.000000       1.000000         1.000000  "
      ]
     },
     "execution_count": 252,
     "metadata": {},
     "output_type": "execute_result"
    }
   ],
   "source": [
    "df.describe()"
   ]
  },
  {
   "cell_type": "markdown",
   "id": "834929aa-fd6a-4ec5-84d4-77c4b3c1a506",
   "metadata": {},
   "source": [
    "The process of profiling differs slightly for categorical and numerical variables due to their inherent differences.\n",
    "\n",
    "**The two main types of data are:**\n",
    "- Quantitative (numerical) data\n",
    "- Qualitative (categorical) data"
   ]
  },
  {
   "cell_type": "markdown",
   "id": "3a9954f5-6fbc-45b4-ad86-3e21b6e0ca2d",
   "metadata": {},
   "source": [
    "### Data Quality Checks\n",
    "Data quality checks involve the process of ensuring that the data is accurate, complete, consistent, relevant, and reliable. \n",
    "\n",
    "\n",
    "**Here are typical steps involved in checking data quality:**"
   ]
  },
  {
   "cell_type": "markdown",
   "id": "4818c876-173d-4e56-9e7d-b4334d2def25",
   "metadata": {},
   "source": [
    "#### 1. Reliability:\n",
    "Evaluate the data's source and collection process to determine its trustworthiness."
   ]
  },
  {
   "cell_type": "code",
   "execution_count": 253,
   "id": "9034ae7b-dc1d-4cba-8f9e-bb499d021cde",
   "metadata": {},
   "outputs": [],
   "source": [
    "# we discrapping the data from wego website "
   ]
  },
  {
   "cell_type": "markdown",
   "id": "2ce0cc59-8c92-4acc-8d07-c40764e1a86b",
   "metadata": {},
   "source": [
    "#### 2. Timeliness: \n",
    "Ensure the data is up-to-date and reflective of the current situation or the period of interest for the analysis."
   ]
  },
  {
   "cell_type": "code",
   "execution_count": 254,
   "id": "4b78ae35-7226-4cb6-b8b2-a46c2ed17cf9",
   "metadata": {},
   "outputs": [],
   "source": [
    "# The dataset is up-to-date "
   ]
  },
  {
   "cell_type": "markdown",
   "id": "7fab0fe2-6624-4615-b9d8-3c3669056bf8",
   "metadata": {},
   "source": [
    "#### 3. Consistency: \n",
    "\n",
    "Confirm that the data is consistent within the dataset and across multiple data sources. For example, the same data point should not have different values in different places.\n"
   ]
  },
  {
   "cell_type": "code",
   "execution_count": 255,
   "id": "7fecc573-959f-4800-8ddd-a67985c68b18",
   "metadata": {},
   "outputs": [],
   "source": [
    "# The dataset is completely consistene every columns have the same valuse type "
   ]
  },
  {
   "cell_type": "markdown",
   "id": "bec3d183-bba0-4b12-b963-487daab1e876",
   "metadata": {},
   "source": [
    "#### 4. Relevance: \n",
    "Assess whether the data is appropriate and applicable for the intended analysis. Data that is not relevant can skew results and lead to incorrect conclusions.\n",
    "\n",
    "**Key considerations for relevance include:**\n",
    "\n",
    "> 1. Sample Appropriateness: Confirm that your data sample aligns with your analysis objectives. For instance, utilizing data from the Northern region will not yield accurate insights for the Western region of the Kingdom.\n",
    ">\n",
    "> 2. Variable Selection: Any column will not be relevant for our analysis, we can get rid of these using the drop() method. We will set the “axis” argument to 1 since we’re dealing with columns, and set the “inplace” argument to True to make the change permanent.\n"
   ]
  },
  {
   "cell_type": "code",
   "execution_count": 256,
   "id": "50a934b7-a0cd-443f-8a27-f10e9a6e8647",
   "metadata": {
    "scrolled": true
   },
   "outputs": [],
   "source": [
    "df.drop(columns='Unnamed: 0.1' , inplace = True)\n",
    "df.drop(columns='Unnamed: 0' , inplace = True)"
   ]
  },
  {
   "cell_type": "code",
   "execution_count": 257,
   "id": "a95327a0",
   "metadata": {},
   "outputs": [],
   "source": [
    "df.rename(columns={\n",
    "    'Title' : 'Hotel_Name',\n",
    "    'Airport Shuttle' : 'Airport_Shuttle',\n",
    "    'Business Centre' : 'Business_Centre',\n",
    "    'Facilities for Disabled' : 'Facilities',\n",
    "    'Fitness Centre' : 'Fitness_Centre',\n",
    "    'Room Service' : 'Room_Service',\n",
    "    'Swimming Pool' : 'Swimming_Pool',\n",
    "    'Wellness Centre' : 'Wellness_Centre'\n",
    "} , inplace=True)"
   ]
  },
  {
   "cell_type": "markdown",
   "id": "0f5e3a2a-bbb7-4d06-8220-c93277b70146",
   "metadata": {},
   "source": [
    "#### 5. Uniqueness: \n",
    "Check for and remove duplicate records to prevent skewed analysis results.\n"
   ]
  },
  {
   "cell_type": "code",
   "execution_count": 258,
   "id": "17186552",
   "metadata": {},
   "outputs": [
    {
     "data": {
      "text/plain": [
       "(3230, 13)"
      ]
     },
     "execution_count": 258,
     "metadata": {},
     "output_type": "execute_result"
    }
   ],
   "source": [
    "df.shape"
   ]
  },
  {
   "cell_type": "code",
   "execution_count": 259,
   "id": "a509a7aa-58f4-4d39-8eb8-e8298a21f2a7",
   "metadata": {},
   "outputs": [
    {
     "data": {
      "text/html": [
       "<div>\n",
       "<style scoped>\n",
       "    .dataframe tbody tr th:only-of-type {\n",
       "        vertical-align: middle;\n",
       "    }\n",
       "\n",
       "    .dataframe tbody tr th {\n",
       "        vertical-align: top;\n",
       "    }\n",
       "\n",
       "    .dataframe thead th {\n",
       "        text-align: right;\n",
       "    }\n",
       "</style>\n",
       "<table border=\"1\" class=\"dataframe\">\n",
       "  <thead>\n",
       "    <tr style=\"text-align: right;\">\n",
       "      <th></th>\n",
       "      <th>Hotel_Name</th>\n",
       "      <th>Rating</th>\n",
       "      <th>Price</th>\n",
       "      <th>region</th>\n",
       "      <th>Airport_Shuttle</th>\n",
       "      <th>Business_Centre</th>\n",
       "      <th>Facilities</th>\n",
       "      <th>Fitness_Centre</th>\n",
       "      <th>Restaurant</th>\n",
       "      <th>Room_Service</th>\n",
       "      <th>Spa</th>\n",
       "      <th>Swimming_Pool</th>\n",
       "      <th>Wellness_Centre</th>\n",
       "    </tr>\n",
       "  </thead>\n",
       "  <tbody>\n",
       "    <tr>\n",
       "      <th>26</th>\n",
       "      <td>Iridium 70 Hotel</td>\n",
       "      <td>8.9</td>\n",
       "      <td>335</td>\n",
       "      <td>Jeddah</td>\n",
       "      <td>0</td>\n",
       "      <td>0</td>\n",
       "      <td>0</td>\n",
       "      <td>0</td>\n",
       "      <td>0</td>\n",
       "      <td>0</td>\n",
       "      <td>0</td>\n",
       "      <td>1</td>\n",
       "      <td>0</td>\n",
       "    </tr>\n",
       "    <tr>\n",
       "      <th>28</th>\n",
       "      <td>Shada Hotel Shati</td>\n",
       "      <td>8.8</td>\n",
       "      <td>468</td>\n",
       "      <td>Jeddah</td>\n",
       "      <td>0</td>\n",
       "      <td>0</td>\n",
       "      <td>0</td>\n",
       "      <td>0</td>\n",
       "      <td>0</td>\n",
       "      <td>0</td>\n",
       "      <td>0</td>\n",
       "      <td>1</td>\n",
       "      <td>0</td>\n",
       "    </tr>\n",
       "    <tr>\n",
       "      <th>29</th>\n",
       "      <td>Shangri-La Jeddah</td>\n",
       "      <td>8.3</td>\n",
       "      <td>1,883</td>\n",
       "      <td>Jeddah</td>\n",
       "      <td>0</td>\n",
       "      <td>0</td>\n",
       "      <td>0</td>\n",
       "      <td>0</td>\n",
       "      <td>0</td>\n",
       "      <td>0</td>\n",
       "      <td>0</td>\n",
       "      <td>1</td>\n",
       "      <td>0</td>\n",
       "    </tr>\n",
       "    <tr>\n",
       "      <th>59</th>\n",
       "      <td>Radisson Blu Hotel, Jeddah Al Salam</td>\n",
       "      <td>8.7</td>\n",
       "      <td>540</td>\n",
       "      <td>Jeddah</td>\n",
       "      <td>0</td>\n",
       "      <td>0</td>\n",
       "      <td>0</td>\n",
       "      <td>0</td>\n",
       "      <td>0</td>\n",
       "      <td>0</td>\n",
       "      <td>0</td>\n",
       "      <td>1</td>\n",
       "      <td>0</td>\n",
       "    </tr>\n",
       "    <tr>\n",
       "      <th>61</th>\n",
       "      <td>Golden New Palace</td>\n",
       "      <td>8.2</td>\n",
       "      <td>193</td>\n",
       "      <td>Jeddah</td>\n",
       "      <td>0</td>\n",
       "      <td>0</td>\n",
       "      <td>0</td>\n",
       "      <td>0</td>\n",
       "      <td>0</td>\n",
       "      <td>0</td>\n",
       "      <td>1</td>\n",
       "      <td>0</td>\n",
       "      <td>1</td>\n",
       "    </tr>\n",
       "    <tr>\n",
       "      <th>...</th>\n",
       "      <td>...</td>\n",
       "      <td>...</td>\n",
       "      <td>...</td>\n",
       "      <td>...</td>\n",
       "      <td>...</td>\n",
       "      <td>...</td>\n",
       "      <td>...</td>\n",
       "      <td>...</td>\n",
       "      <td>...</td>\n",
       "      <td>...</td>\n",
       "      <td>...</td>\n",
       "      <td>...</td>\n",
       "      <td>...</td>\n",
       "    </tr>\n",
       "    <tr>\n",
       "      <th>3215</th>\n",
       "      <td>Novotel Jazan</td>\n",
       "      <td>8.7</td>\n",
       "      <td>476</td>\n",
       "      <td>Jazan</td>\n",
       "      <td>0</td>\n",
       "      <td>0</td>\n",
       "      <td>0</td>\n",
       "      <td>0</td>\n",
       "      <td>1</td>\n",
       "      <td>0</td>\n",
       "      <td>0</td>\n",
       "      <td>1</td>\n",
       "      <td>0</td>\n",
       "    </tr>\n",
       "    <tr>\n",
       "      <th>3216</th>\n",
       "      <td>Golden Armada Hotel</td>\n",
       "      <td>8.9</td>\n",
       "      <td>170</td>\n",
       "      <td>Jazan</td>\n",
       "      <td>0</td>\n",
       "      <td>0</td>\n",
       "      <td>0</td>\n",
       "      <td>0</td>\n",
       "      <td>0</td>\n",
       "      <td>0</td>\n",
       "      <td>0</td>\n",
       "      <td>1</td>\n",
       "      <td>0</td>\n",
       "    </tr>\n",
       "    <tr>\n",
       "      <th>3227</th>\n",
       "      <td>Msharef Al Moden Suites - Jazan</td>\n",
       "      <td>9.1</td>\n",
       "      <td>398</td>\n",
       "      <td>Jazan</td>\n",
       "      <td>0</td>\n",
       "      <td>0</td>\n",
       "      <td>0</td>\n",
       "      <td>0</td>\n",
       "      <td>0</td>\n",
       "      <td>0</td>\n",
       "      <td>0</td>\n",
       "      <td>0</td>\n",
       "      <td>0</td>\n",
       "    </tr>\n",
       "    <tr>\n",
       "      <th>3228</th>\n",
       "      <td>Al Dar Hotel Apartments</td>\n",
       "      <td>7.3</td>\n",
       "      <td>178</td>\n",
       "      <td>Jazan</td>\n",
       "      <td>0</td>\n",
       "      <td>0</td>\n",
       "      <td>0</td>\n",
       "      <td>0</td>\n",
       "      <td>0</td>\n",
       "      <td>1</td>\n",
       "      <td>0</td>\n",
       "      <td>0</td>\n",
       "      <td>0</td>\n",
       "    </tr>\n",
       "    <tr>\n",
       "      <th>3229</th>\n",
       "      <td>Courtyard Jazan</td>\n",
       "      <td>8.5</td>\n",
       "      <td>450</td>\n",
       "      <td>Jazan</td>\n",
       "      <td>0</td>\n",
       "      <td>0</td>\n",
       "      <td>0</td>\n",
       "      <td>0</td>\n",
       "      <td>0</td>\n",
       "      <td>0</td>\n",
       "      <td>0</td>\n",
       "      <td>1</td>\n",
       "      <td>0</td>\n",
       "    </tr>\n",
       "  </tbody>\n",
       "</table>\n",
       "<p>1806 rows × 13 columns</p>\n",
       "</div>"
      ],
      "text/plain": [
       "                               Hotel_Name  Rating  Price  region  \\\n",
       "26                       Iridium 70 Hotel     8.9    335  Jeddah   \n",
       "28                      Shada Hotel Shati     8.8    468  Jeddah   \n",
       "29                      Shangri-La Jeddah     8.3  1,883  Jeddah   \n",
       "59    Radisson Blu Hotel, Jeddah Al Salam     8.7    540  Jeddah   \n",
       "61                      Golden New Palace     8.2    193  Jeddah   \n",
       "...                                   ...     ...    ...     ...   \n",
       "3215                        Novotel Jazan     8.7    476   Jazan   \n",
       "3216                  Golden Armada Hotel     8.9    170   Jazan   \n",
       "3227      Msharef Al Moden Suites - Jazan     9.1    398   Jazan   \n",
       "3228              Al Dar Hotel Apartments     7.3    178   Jazan   \n",
       "3229                      Courtyard Jazan     8.5    450   Jazan   \n",
       "\n",
       "      Airport_Shuttle  Business_Centre  Facilities  Fitness_Centre  \\\n",
       "26                  0                0           0               0   \n",
       "28                  0                0           0               0   \n",
       "29                  0                0           0               0   \n",
       "59                  0                0           0               0   \n",
       "61                  0                0           0               0   \n",
       "...               ...              ...         ...             ...   \n",
       "3215                0                0           0               0   \n",
       "3216                0                0           0               0   \n",
       "3227                0                0           0               0   \n",
       "3228                0                0           0               0   \n",
       "3229                0                0           0               0   \n",
       "\n",
       "      Restaurant  Room_Service  Spa  Swimming_Pool  Wellness_Centre  \n",
       "26             0             0    0              1                0  \n",
       "28             0             0    0              1                0  \n",
       "29             0             0    0              1                0  \n",
       "59             0             0    0              1                0  \n",
       "61             0             0    1              0                1  \n",
       "...          ...           ...  ...            ...              ...  \n",
       "3215           1             0    0              1                0  \n",
       "3216           0             0    0              1                0  \n",
       "3227           0             0    0              0                0  \n",
       "3228           0             1    0              0                0  \n",
       "3229           0             0    0              1                0  \n",
       "\n",
       "[1806 rows x 13 columns]"
      ]
     },
     "execution_count": 259,
     "metadata": {},
     "output_type": "execute_result"
    }
   ],
   "source": [
    "df[df.duplicated()]"
   ]
  },
  {
   "cell_type": "code",
   "execution_count": 260,
   "id": "ae16e9e1",
   "metadata": {},
   "outputs": [],
   "source": [
    "df.drop_duplicates(inplace = True)"
   ]
  },
  {
   "cell_type": "markdown",
   "id": "c7724ac2-4ea2-4cf4-a9e0-e64368f87b92",
   "metadata": {},
   "source": [
    "#### 6. Completeness: "
   ]
  },
  {
   "cell_type": "code",
   "execution_count": 261,
   "id": "48a4de54-a344-4b94-9908-9528c15c13f7",
   "metadata": {},
   "outputs": [
    {
     "data": {
      "text/plain": [
       "Hotel_Name         0\n",
       "Rating             0\n",
       "Price              0\n",
       "region             0\n",
       "Airport_Shuttle    0\n",
       "Business_Centre    0\n",
       "Facilities         0\n",
       "Fitness_Centre     0\n",
       "Restaurant         0\n",
       "Room_Service       0\n",
       "Spa                0\n",
       "Swimming_Pool      0\n",
       "Wellness_Centre    0\n",
       "dtype: int64"
      ]
     },
     "execution_count": 261,
     "metadata": {},
     "output_type": "execute_result"
    }
   ],
   "source": [
    "df.isnull().sum()"
   ]
  },
  {
   "cell_type": "markdown",
   "id": "b40de63c-5a1d-49ed-a87e-c5229ee08bbe",
   "metadata": {},
   "source": [
    "#### 7. Check Accuracy:"
   ]
  },
  {
   "cell_type": "code",
   "execution_count": 262,
   "id": "68be5334-ae10-4abd-8097-3259fe5e72c8",
   "metadata": {},
   "outputs": [
    {
     "data": {
      "text/plain": [
       "Hotel_Name          object\n",
       "Rating             float64\n",
       "Price               object\n",
       "region              object\n",
       "Airport_Shuttle      int64\n",
       "Business_Centre      int64\n",
       "Facilities           int64\n",
       "Fitness_Centre       int64\n",
       "Restaurant           int64\n",
       "Room_Service         int64\n",
       "Spa                  int64\n",
       "Swimming_Pool        int64\n",
       "Wellness_Centre      int64\n",
       "dtype: object"
      ]
     },
     "execution_count": 262,
     "metadata": {},
     "output_type": "execute_result"
    }
   ],
   "source": [
    "df.dtypes"
   ]
  },
  {
   "attachments": {},
   "cell_type": "markdown",
   "id": "4e886ec7-388c-414b-ada7-803c2fb1f2cb",
   "metadata": {},
   "source": [
    "## 2. Data Cleaning: \n",
    "\n",
    "-------------------\n",
    "\n"
   ]
  },
  {
   "cell_type": "code",
   "execution_count": 263,
   "id": "34c06ced",
   "metadata": {},
   "outputs": [],
   "source": [
    "df['Price'] = df['Price'].str.replace(\",\", '.')"
   ]
  },
  {
   "cell_type": "code",
   "execution_count": 264,
   "id": "a6b97660",
   "metadata": {},
   "outputs": [],
   "source": [
    "df = df.astype({\"Price\": float})"
   ]
  },
  {
   "cell_type": "code",
   "execution_count": 265,
   "id": "3c9ce6ef",
   "metadata": {},
   "outputs": [
    {
     "data": {
      "text/html": [
       "<div>\n",
       "<style scoped>\n",
       "    .dataframe tbody tr th:only-of-type {\n",
       "        vertical-align: middle;\n",
       "    }\n",
       "\n",
       "    .dataframe tbody tr th {\n",
       "        vertical-align: top;\n",
       "    }\n",
       "\n",
       "    .dataframe thead th {\n",
       "        text-align: right;\n",
       "    }\n",
       "</style>\n",
       "<table border=\"1\" class=\"dataframe\">\n",
       "  <thead>\n",
       "    <tr style=\"text-align: right;\">\n",
       "      <th></th>\n",
       "      <th>Hotel_Name</th>\n",
       "      <th>Rating</th>\n",
       "      <th>Price</th>\n",
       "      <th>region</th>\n",
       "      <th>Airport_Shuttle</th>\n",
       "      <th>Business_Centre</th>\n",
       "      <th>Facilities</th>\n",
       "      <th>Fitness_Centre</th>\n",
       "      <th>Restaurant</th>\n",
       "      <th>Room_Service</th>\n",
       "      <th>Spa</th>\n",
       "      <th>Swimming_Pool</th>\n",
       "      <th>Wellness_Centre</th>\n",
       "    </tr>\n",
       "  </thead>\n",
       "  <tbody>\n",
       "    <tr>\n",
       "      <th>0</th>\n",
       "      <td>Radisson Blu Hotel, Jeddah Al Salam</td>\n",
       "      <td>8.7</td>\n",
       "      <td>540.0</td>\n",
       "      <td>Jeddah</td>\n",
       "      <td>0</td>\n",
       "      <td>0</td>\n",
       "      <td>0</td>\n",
       "      <td>0</td>\n",
       "      <td>0</td>\n",
       "      <td>0</td>\n",
       "      <td>0</td>\n",
       "      <td>1</td>\n",
       "      <td>0</td>\n",
       "    </tr>\n",
       "    <tr>\n",
       "      <th>1</th>\n",
       "      <td>Holiday Inn JEDDAH GATEWAY</td>\n",
       "      <td>8.4</td>\n",
       "      <td>614.0</td>\n",
       "      <td>Jeddah</td>\n",
       "      <td>0</td>\n",
       "      <td>0</td>\n",
       "      <td>0</td>\n",
       "      <td>0</td>\n",
       "      <td>0</td>\n",
       "      <td>0</td>\n",
       "      <td>0</td>\n",
       "      <td>1</td>\n",
       "      <td>0</td>\n",
       "    </tr>\n",
       "    <tr>\n",
       "      <th>2</th>\n",
       "      <td>Golden New Palace</td>\n",
       "      <td>8.2</td>\n",
       "      <td>193.0</td>\n",
       "      <td>Jeddah</td>\n",
       "      <td>0</td>\n",
       "      <td>0</td>\n",
       "      <td>0</td>\n",
       "      <td>0</td>\n",
       "      <td>0</td>\n",
       "      <td>0</td>\n",
       "      <td>1</td>\n",
       "      <td>0</td>\n",
       "      <td>1</td>\n",
       "    </tr>\n",
       "    <tr>\n",
       "      <th>3</th>\n",
       "      <td>Habitat Hotel All Suites - Jeddah</td>\n",
       "      <td>7.4</td>\n",
       "      <td>375.0</td>\n",
       "      <td>Jeddah</td>\n",
       "      <td>0</td>\n",
       "      <td>0</td>\n",
       "      <td>0</td>\n",
       "      <td>0</td>\n",
       "      <td>1</td>\n",
       "      <td>0</td>\n",
       "      <td>0</td>\n",
       "      <td>1</td>\n",
       "      <td>0</td>\n",
       "    </tr>\n",
       "    <tr>\n",
       "      <th>4</th>\n",
       "      <td>Donatello Hotel Jeddah</td>\n",
       "      <td>8.1</td>\n",
       "      <td>472.0</td>\n",
       "      <td>Jeddah</td>\n",
       "      <td>0</td>\n",
       "      <td>0</td>\n",
       "      <td>0</td>\n",
       "      <td>0</td>\n",
       "      <td>0</td>\n",
       "      <td>0</td>\n",
       "      <td>0</td>\n",
       "      <td>1</td>\n",
       "      <td>0</td>\n",
       "    </tr>\n",
       "    <tr>\n",
       "      <th>...</th>\n",
       "      <td>...</td>\n",
       "      <td>...</td>\n",
       "      <td>...</td>\n",
       "      <td>...</td>\n",
       "      <td>...</td>\n",
       "      <td>...</td>\n",
       "      <td>...</td>\n",
       "      <td>...</td>\n",
       "      <td>...</td>\n",
       "      <td>...</td>\n",
       "      <td>...</td>\n",
       "      <td>...</td>\n",
       "      <td>...</td>\n",
       "    </tr>\n",
       "    <tr>\n",
       "      <th>3222</th>\n",
       "      <td>Al Sultan Hostel</td>\n",
       "      <td>8.7</td>\n",
       "      <td>330.0</td>\n",
       "      <td>Jazan</td>\n",
       "      <td>0</td>\n",
       "      <td>0</td>\n",
       "      <td>0</td>\n",
       "      <td>0</td>\n",
       "      <td>1</td>\n",
       "      <td>0</td>\n",
       "      <td>0</td>\n",
       "      <td>0</td>\n",
       "      <td>0</td>\n",
       "    </tr>\n",
       "    <tr>\n",
       "      <th>3223</th>\n",
       "      <td>Jizan Park Hotel</td>\n",
       "      <td>7.8</td>\n",
       "      <td>349.0</td>\n",
       "      <td>Jazan</td>\n",
       "      <td>0</td>\n",
       "      <td>0</td>\n",
       "      <td>0</td>\n",
       "      <td>0</td>\n",
       "      <td>0</td>\n",
       "      <td>0</td>\n",
       "      <td>0</td>\n",
       "      <td>0</td>\n",
       "      <td>0</td>\n",
       "    </tr>\n",
       "    <tr>\n",
       "      <th>3224</th>\n",
       "      <td>Msharef Al Moden Suites - Jazan</td>\n",
       "      <td>9.1</td>\n",
       "      <td>398.0</td>\n",
       "      <td>Jazan</td>\n",
       "      <td>0</td>\n",
       "      <td>0</td>\n",
       "      <td>0</td>\n",
       "      <td>0</td>\n",
       "      <td>0</td>\n",
       "      <td>0</td>\n",
       "      <td>0</td>\n",
       "      <td>0</td>\n",
       "      <td>0</td>\n",
       "    </tr>\n",
       "    <tr>\n",
       "      <th>3225</th>\n",
       "      <td>Al Dar Hotel Apartments</td>\n",
       "      <td>7.3</td>\n",
       "      <td>178.0</td>\n",
       "      <td>Jazan</td>\n",
       "      <td>0</td>\n",
       "      <td>0</td>\n",
       "      <td>0</td>\n",
       "      <td>0</td>\n",
       "      <td>0</td>\n",
       "      <td>1</td>\n",
       "      <td>0</td>\n",
       "      <td>0</td>\n",
       "      <td>0</td>\n",
       "    </tr>\n",
       "    <tr>\n",
       "      <th>3226</th>\n",
       "      <td>Courtyard Jazan</td>\n",
       "      <td>8.5</td>\n",
       "      <td>450.0</td>\n",
       "      <td>Jazan</td>\n",
       "      <td>0</td>\n",
       "      <td>0</td>\n",
       "      <td>0</td>\n",
       "      <td>0</td>\n",
       "      <td>0</td>\n",
       "      <td>0</td>\n",
       "      <td>0</td>\n",
       "      <td>1</td>\n",
       "      <td>0</td>\n",
       "    </tr>\n",
       "  </tbody>\n",
       "</table>\n",
       "<p>1424 rows × 13 columns</p>\n",
       "</div>"
      ],
      "text/plain": [
       "                               Hotel_Name  Rating  Price  region  \\\n",
       "0     Radisson Blu Hotel, Jeddah Al Salam     8.7  540.0  Jeddah   \n",
       "1              Holiday Inn JEDDAH GATEWAY     8.4  614.0  Jeddah   \n",
       "2                       Golden New Palace     8.2  193.0  Jeddah   \n",
       "3       Habitat Hotel All Suites - Jeddah     7.4  375.0  Jeddah   \n",
       "4                  Donatello Hotel Jeddah     8.1  472.0  Jeddah   \n",
       "...                                   ...     ...    ...     ...   \n",
       "3222                     Al Sultan Hostel     8.7  330.0   Jazan   \n",
       "3223                     Jizan Park Hotel     7.8  349.0   Jazan   \n",
       "3224      Msharef Al Moden Suites - Jazan     9.1  398.0   Jazan   \n",
       "3225              Al Dar Hotel Apartments     7.3  178.0   Jazan   \n",
       "3226                      Courtyard Jazan     8.5  450.0   Jazan   \n",
       "\n",
       "      Airport_Shuttle  Business_Centre  Facilities  Fitness_Centre  \\\n",
       "0                   0                0           0               0   \n",
       "1                   0                0           0               0   \n",
       "2                   0                0           0               0   \n",
       "3                   0                0           0               0   \n",
       "4                   0                0           0               0   \n",
       "...               ...              ...         ...             ...   \n",
       "3222                0                0           0               0   \n",
       "3223                0                0           0               0   \n",
       "3224                0                0           0               0   \n",
       "3225                0                0           0               0   \n",
       "3226                0                0           0               0   \n",
       "\n",
       "      Restaurant  Room_Service  Spa  Swimming_Pool  Wellness_Centre  \n",
       "0              0             0    0              1                0  \n",
       "1              0             0    0              1                0  \n",
       "2              0             0    1              0                1  \n",
       "3              1             0    0              1                0  \n",
       "4              0             0    0              1                0  \n",
       "...          ...           ...  ...            ...              ...  \n",
       "3222           1             0    0              0                0  \n",
       "3223           0             0    0              0                0  \n",
       "3224           0             0    0              0                0  \n",
       "3225           0             1    0              0                0  \n",
       "3226           0             0    0              1                0  \n",
       "\n",
       "[1424 rows x 13 columns]"
      ]
     },
     "execution_count": 265,
     "metadata": {},
     "output_type": "execute_result"
    }
   ],
   "source": [
    "df"
   ]
  },
  {
   "cell_type": "code",
   "execution_count": 266,
   "id": "927d324e",
   "metadata": {},
   "outputs": [
    {
     "name": "stdout",
     "output_type": "stream",
     "text": [
      "<class 'pandas.core.frame.DataFrame'>\n",
      "Index: 1424 entries, 0 to 3226\n",
      "Data columns (total 13 columns):\n",
      " #   Column           Non-Null Count  Dtype  \n",
      "---  ------           --------------  -----  \n",
      " 0   Hotel_Name       1424 non-null   object \n",
      " 1   Rating           1424 non-null   float64\n",
      " 2   Price            1424 non-null   float64\n",
      " 3   region           1424 non-null   object \n",
      " 4   Airport_Shuttle  1424 non-null   int64  \n",
      " 5   Business_Centre  1424 non-null   int64  \n",
      " 6   Facilities       1424 non-null   int64  \n",
      " 7   Fitness_Centre   1424 non-null   int64  \n",
      " 8   Restaurant       1424 non-null   int64  \n",
      " 9   Room_Service     1424 non-null   int64  \n",
      " 10  Spa              1424 non-null   int64  \n",
      " 11  Swimming_Pool    1424 non-null   int64  \n",
      " 12  Wellness_Centre  1424 non-null   int64  \n",
      "dtypes: float64(2), int64(9), object(2)\n",
      "memory usage: 155.8+ KB\n"
     ]
    }
   ],
   "source": [
    "df.info()"
   ]
  },
  {
   "cell_type": "markdown",
   "id": "f09bb809-0edd-432b-bf23-abd0840b3e16",
   "metadata": {},
   "source": [
    "## 4. Bivariate/Multivariate Analysis:"
   ]
  },
  {
   "cell_type": "code",
   "execution_count": 267,
   "id": "605e2baf",
   "metadata": {},
   "outputs": [],
   "source": [
    "numeric_col = [col for col in df.columns if df[col].dtype != 'object']\n",
    "cate_col = [col for col in df.columns if df[col].dtype == 'object']        "
   ]
  },
  {
   "cell_type": "code",
   "execution_count": 283,
   "id": "3590e345-2051-4215-91ac-07d196b510ef",
   "metadata": {},
   "outputs": [
    {
     "name": "stderr",
     "output_type": "stream",
     "text": [
      "C:\\Users\\gharb\\AppData\\Local\\Temp\\ipykernel_28924\\362275289.py:9: FutureWarning: \n",
      "\n",
      "Passing `palette` without assigning `hue` is deprecated and will be removed in v0.14.0. Assign the `x` variable to `hue` and set `legend=False` for the same effect.\n",
      "\n",
      "  sns.barplot(data=df_name_rate, y='Rating', x='Hotel_Name', palette='coolwarm', alpha=0.85, linewidth=2, edgecolor='black')\n",
      "C:\\Users\\gharb\\AppData\\Local\\Temp\\ipykernel_28924\\362275289.py:21: UserWarning: set_ticklabels() should only be used with a fixed number of ticks, i.e. after set_ticks() or using a FixedLocator.\n",
      "  ax.set_xticklabels(ax.get_xticklabels(), rotation=45, ha='right', fontsize=12, fontfamily='monospace')\n"
     ]
    },
    {
     "data": {
      "image/png": "[encoded data removed]",
      "text/plain": [
       "<Figure size 1200x1000 with 1 Axes>"
      ]
     },
     "metadata": {},
     "output_type": "display_data"
    }
   ],
   "source": [
    "import seaborn as sns\n",
    "import matplotlib.pyplot as plt\n",
    "\n",
    "# Sort the DataFrame by 'Rating' and get the top 10\n",
    "df_name_rate = df[['Rating', 'Hotel_Name']].sort_values(by='Rating', ascending=False).head(15)\n",
    "\n",
    "# Create a bar plot for the top 10 names by rate\n",
    "fig, ax = plt.subplots(figsize=(12, 10))\n",
    "sns.barplot(data=df_name_rate, y='Rating', x='Hotel_Name', palette='coolwarm', alpha=0.85, linewidth=2, edgecolor='black')\n",
    "\n",
    "# Customize the plot\n",
    "sns.despine()\n",
    "fig.set_facecolor('#F5F5F5')\n",
    "ax.set_facecolor('#F5F5F5')\n",
    "ax.set_ylabel('Rating', fontsize=14, fontweight='bold', fontfamily='monospace')\n",
    "ax.set_xlabel('')\n",
    "ax.grid(False)\n",
    "ax.grid(which='both', axis='y', zorder=0, color='black', linestyle=':', dashes=(2,7))\n",
    "\n",
    "# Rotate x-axis labels for clarity\n",
    "ax.set_xticklabels(ax.get_xticklabels(), rotation=45, ha='right', fontsize=12, fontfamily='monospace')\n",
    "\n",
    "# Add text annotations in the top-left corner\n",
    "ax.text(x=0, y=max(df_name_rate['Rating']) + (max(df_name_rate['Rating']) * 0.15), \n",
    "        s='Top 10 Rate.', fontsize=20, fontweight='bold', fontfamily='monospace', \n",
    "        ha='left', va='top')\n",
    "ax.text(x=0, y=max(df_name_rate['Rating'])+ (max(df_name_rate['Rating']) * 0.1), \n",
    "        s='These are the top 10 rate \\nHotel by rate', fontsize=13, fontfamily='monospace', \n",
    "        ha='left', va='top')\n",
    "\n",
    "# Display the plot\n",
    "plt.show()\n"
   ]
  },
  {
   "cell_type": "code",
   "execution_count": 282,
   "id": "8d3749e6",
   "metadata": {},
   "outputs": [
    {
     "name": "stderr",
     "output_type": "stream",
     "text": [
      "C:\\Users\\gharb\\AppData\\Local\\Temp\\ipykernel_28924\\3471141750.py:9: FutureWarning: \n",
      "\n",
      "Passing `palette` without assigning `hue` is deprecated and will be removed in v0.14.0. Assign the `x` variable to `hue` and set `legend=False` for the same effect.\n",
      "\n",
      "  sns.barplot(data=df_name_rate, y='Rating', x='Hotel_Name', palette='coolwarm', alpha=0.85, linewidth=2, edgecolor='black')\n",
      "C:\\Users\\gharb\\AppData\\Local\\Temp\\ipykernel_28924\\3471141750.py:21: UserWarning: set_ticklabels() should only be used with a fixed number of ticks, i.e. after set_ticks() or using a FixedLocator.\n",
      "  ax.set_xticklabels(ax.get_xticklabels(), rotation=45, ha='right', fontsize=12, fontfamily='monospace')\n"
     ]
    },
    {
     "data": {
      "image/png": "[encoded data removed]",
      "text/plain": [
       "<Figure size 1200x1000 with 1 Axes>"
      ]
     },
     "metadata": {},
     "output_type": "display_data"
    }
   ],
   "source": [
    "import seaborn as sns\n",
    "import matplotlib.pyplot as plt\n",
    "\n",
    "# Sort the DataFrame by 'Rating' and get the top 10\n",
    "df_name_rate = df[['Rating', 'Hotel_Name']].sort_values(by='Rating', ascending=True).head(15)\n",
    "\n",
    "# Create a bar plot for the top 10 names by rate\n",
    "fig, ax = plt.subplots(figsize=(12, 10))\n",
    "sns.barplot(data=df_name_rate, y='Rating', x='Hotel_Name', palette='coolwarm', alpha=0.85, linewidth=2, edgecolor='black')\n",
    "\n",
    "# Customize the plot\n",
    "sns.despine()\n",
    "fig.set_facecolor('#F5F5F5')\n",
    "ax.set_facecolor('#F5F5F5')\n",
    "ax.set_ylabel('Rating', fontsize=14, fontweight='bold', fontfamily='monospace')\n",
    "ax.set_xlabel('')\n",
    "ax.grid(False)\n",
    "ax.grid(which='both', axis='y', zorder=0, color='black', linestyle=':', dashes=(2,7))\n",
    "\n",
    "# Rotate x-axis labels for clarity\n",
    "ax.set_xticklabels(ax.get_xticklabels(), rotation=45, ha='right', fontsize=12, fontfamily='monospace')\n",
    "\n",
    "# Add text annotations in the top-left corner\n",
    "ax.text(x=0, y=max(df_name_rate['Rating']) + (max(df_name_rate['Rating']) * 0.15), \n",
    "        s='Top 10 Rate.', fontsize=20, fontweight='bold', fontfamily='monospace', \n",
    "        ha='left', va='top')\n",
    "ax.text(x=0, y=max(df_name_rate['Rating'])+ (max(df_name_rate['Rating']) * 0.1), \n",
    "        s='These are the top 10 rate \\nHotel by rate', fontsize=13, fontfamily='monospace', \n",
    "        ha='left', va='top')\n",
    "\n",
    "# Display the plot\n",
    "plt.show()\n"
   ]
  },
  {
   "cell_type": "code",
   "execution_count": 279,
   "id": "8d1300f1",
   "metadata": {},
   "outputs": [
    {
     "name": "stderr",
     "output_type": "stream",
     "text": [
      "C:\\Users\\gharb\\AppData\\Local\\Temp\\ipykernel_28924\\4220200266.py:11: FutureWarning: \n",
      "\n",
      "Passing `palette` without assigning `hue` is deprecated and will be removed in v0.14.0. Assign the `x` variable to `hue` and set `legend=False` for the same effect.\n",
      "\n",
      "  sns.barplot(data=df_services, y='Count', x='region', palette='coolwarm', alpha=0.85, linewidth=2, edgecolor='black')\n",
      "C:\\Users\\gharb\\AppData\\Local\\Temp\\ipykernel_28924\\4220200266.py:23: UserWarning: set_ticklabels() should only be used with a fixed number of ticks, i.e. after set_ticks() or using a FixedLocator.\n",
      "  ax.set_xticklabels(ax.get_xticklabels(), rotation=45, ha='right', fontsize=12, fontfamily='monospace')\n"
     ]
    },
    {
     "data": {
      "image/png": "[encoded data removed]",
      "text/plain": [
       "<Figure size 1200x1000 with 1 Axes>"
      ]
     },
     "metadata": {},
     "output_type": "display_data"
    }
   ],
   "source": [
    "import seaborn as sns\n",
    "import matplotlib.pyplot as plt\n",
    "\n",
    "ser = df['region'].value_counts()\n",
    "# Create a DataFrame from the Series 'ser' for easier plotting\n",
    "df_services = ser.reset_index()\n",
    "df_services.columns = ['region', 'Count']\n",
    "\n",
    "# Create a bar plot for the top 5 most common services\n",
    "fig, ax = plt.subplots(figsize=(12, 10))\n",
    "sns.barplot(data=df_services, y='Count', x='region', palette='coolwarm', alpha=0.85, linewidth=2, edgecolor='black')\n",
    "\n",
    "# Customize the plot\n",
    "sns.despine()\n",
    "fig.set_facecolor('#F5F5F5')\n",
    "ax.set_facecolor('#F5F5F5')\n",
    "ax.set_ylabel('Number of Hotels', fontsize=14, fontweight='bold', fontfamily='monospace')  # New y-axis label\n",
    "ax.set_xlabel('Region', fontsize=14, fontweight='bold', fontfamily='monospace')  # New x-axis label\n",
    "ax.grid(False)\n",
    "ax.grid(which='both', axis='y', zorder=0, color='black', linestyle=':', dashes=(2,7))\n",
    "\n",
    "# Rotate x-axis labels for clarity\n",
    "ax.set_xticklabels(ax.get_xticklabels(), rotation=45, ha='right', fontsize=12, fontfamily='monospace')\n",
    "\n",
    "# Add text annotations in the top-left corner\n",
    "ax.text(x=0, y=max(df_services['Count']) + (max(df_services['Count']) * 0.15), \n",
    "        s='Distribution of Hotels by Region', fontsize=20, fontweight='bold', fontfamily='monospace',  # New title\n",
    "        ha='left', va='top')\n",
    "ax.text(x=0, y=max(df_services['Count']) + (max(df_services['Count']) * 0.1), \n",
    "        s='The plot shows the number of hotels in each region.', fontsize=13, fontfamily='monospace', \n",
    "        ha='left', va='top')\n",
    "\n",
    "# Display the plot\n",
    "plt.show()\n"
   ]
  },
  {
   "cell_type": "code",
   "execution_count": 274,
   "id": "c86fb89a",
   "metadata": {},
   "outputs": [],
   "source": [
    "df_region = df[['Hotel_Name' , 'Rating' , 'region']] "
   ]
  },
  {
   "cell_type": "code",
   "execution_count": 278,
   "id": "869fbcac",
   "metadata": {},
   "outputs": [
    {
     "name": "stderr",
     "output_type": "stream",
     "text": [
      "C:\\Users\\gharb\\AppData\\Local\\Temp\\ipykernel_28924\\4246307855.py:11: FutureWarning: \n",
      "\n",
      "Passing `palette` without assigning `hue` is deprecated and will be removed in v0.14.0. Assign the `x` variable to `hue` and set `legend=False` for the same effect.\n",
      "\n",
      "  sns.barplot(data=average_ratings, y='Rating', x='region', palette='coolwarm', alpha=0.85, linewidth=2, edgecolor='black')\n",
      "C:\\Users\\gharb\\AppData\\Local\\Temp\\ipykernel_28924\\4246307855.py:23: UserWarning: set_ticklabels() should only be used with a fixed number of ticks, i.e. after set_ticks() or using a FixedLocator.\n",
      "  ax.set_xticklabels(ax.get_xticklabels(), rotation=45, ha='right', fontsize=12, fontfamily='monospace')\n"
     ]
    },
    {
     "data": {
      "image/png": "[encoded data removed]",
      "text/plain": [
       "<Figure size 1200x1000 with 1 Axes>"
      ]
     },
     "metadata": {},
     "output_type": "display_data"
    }
   ],
   "source": [
    "import seaborn as sns\n",
    "import matplotlib.pyplot as plt\n",
    "\n",
    "# Assuming df_region is already defined and contains 'Hotel_Name', 'Rating', and 'region'\n",
    "\n",
    "# Calculate the average rating for each region\n",
    "average_ratings = df_region.groupby('region')['Rating'].mean().reset_index()\n",
    "\n",
    "# Create a bar plot for the average ratings in each region\n",
    "fig, ax = plt.subplots(figsize=(12, 10))\n",
    "sns.barplot(data=average_ratings, y='Rating', x='region', palette='coolwarm', alpha=0.85, linewidth=2, edgecolor='black')\n",
    "\n",
    "# Customize the plot\n",
    "sns.despine()\n",
    "fig.set_facecolor('#F5F5F5')\n",
    "ax.set_facecolor('#F5F5F5')\n",
    "ax.set_ylabel('Average Rating', fontsize=14, fontweight='bold', fontfamily='monospace')\n",
    "ax.set_xlabel('ٌRegion')\n",
    "ax.grid(False)\n",
    "ax.grid(which='both', axis='y', zorder=0, color='black', linestyle=':', dashes=(2, 7))\n",
    "\n",
    "# Rotate x-axis labels for clarity\n",
    "ax.set_xticklabels(ax.get_xticklabels(), rotation=45, ha='right', fontsize=12, fontfamily='monospace')\n",
    "\n",
    "# Add text annotations in the top-left corner\n",
    "ax.text(x=0, y=max(average_ratings['Rating']) + (max(average_ratings['Rating']) * 0.15), \n",
    "        s='Average Ratings by Region', fontsize=20, fontweight='bold', fontfamily='monospace', \n",
    "        ha='left', va='top')\n",
    "ax.text(x=0, y=max(average_ratings['Rating']) + (max(average_ratings['Rating']) * 0.1), \n",
    "        s='These are the average ratings of hotels in each region.', fontsize=13, fontfamily='monospace', \n",
    "        ha='left', va='top')\n",
    "\n",
    "# Display the plot\n",
    "plt.show()\n"
   ]
  },
  {
   "cell_type": "code",
   "execution_count": 289,
   "id": "913023ab",
   "metadata": {},
   "outputs": [
    {
     "data": {
      "image/png": "[encoded data removed]",
      "text/plain": [
       "<Figure size 1600x1000 with 1 Axes>"
      ]
     },
     "metadata": {},
     "output_type": "display_data"
    }
   ],
   "source": [
    "import seaborn as sns\n",
    "import matplotlib.pyplot as plt\n",
    "\n",
    "# Assuming df_new is already defined and melted\n",
    "plt.figure(figsize=(16, 10))\n",
    "\n",
    "# Define the custom palette where True is blue and False is red\n",
    "custom_palette = {1: 'blue', 0: 'red'}  # Assuming 1 represents True and 0 represents False\n",
    "\n",
    "# Create the count plot with the custom palette\n",
    "sns.countplot(data=df_melted, x='Column', hue='Value', palette=custom_palette, alpha=0.85, linewidth=2, edgecolor='black')\n",
    "\n",
    "# Customize the plot\n",
    "plt.title('Distribution of Service', fontsize=20, fontweight='bold', fontfamily='monospace', pad=20)\n",
    "plt.xlabel('Service', fontsize=16, fontfamily='monospace', labelpad=15)\n",
    "plt.ylabel('Count', fontsize=16, fontfamily='monospace', labelpad=15)\n",
    "plt.xticks(rotation=45, ha='right', fontsize=12, fontfamily='monospace')\n",
    "plt.yticks(fontsize=12, fontfamily='monospace')\n",
    "plt.legend(title='Value', fontsize=14, title_fontsize=16, loc='upper right', frameon=False)\n",
    "plt.grid(False)\n",
    "\n",
    "# Set background colors to match the design\n",
    "plt.gca().set_facecolor('#F5F5F5')\n",
    "plt.gcf().set_facecolor('#F5F5F5')\n",
    "\n",
    "plt.tight_layout()\n",
    "plt.show()\n"
   ]
  },
  {
   "cell_type": "code",
   "execution_count": 303,
   "id": "420319b3",
   "metadata": {},
   "outputs": [
    {
     "data": {
      "application/vnd.plotly.v1+json": {
       "config": {
        "plotlyServerURL": "https://plot.ly"
       },
       "data": [
        {
         "alignmentgroup": "True",
         "bingroup": "x",
         "hovertemplate": "Price=%{x}<br>count=%{y}<extra></extra>",
         "legendgroup": "",
         "marker": {
          "color": "rgb(176, 242, 188)",
          "pattern": {
           "shape": ""
          }
         },
         "name": "",
         "nbinsx": 20,
         "offsetgroup": "",
         "orientation": "v",
         "showlegend": false,
         "type": "histogram",
         "x": [
          590,
          1.02,
          1.026,
          585,
          1.085,
          999,
          541,
          543,
          1.105,
          592,
          1.041,
          1.35,
          315,
          599,
          2,
          1.8,
          816,
          4.165,
          436,
          510,
          800,
          1.486,
          1.67,
          1.488,
          1.9,
          901,
          1.57,
          264,
          591,
          901,
          856,
          2.025,
          337,
          2.55,
          697,
          347,
          332,
          249,
          1.582,
          166,
          1.095,
          381,
          1.15,
          277,
          1.183,
          442,
          514,
          773,
          297,
          964,
          342,
          340,
          677,
          283,
          675,
          237,
          789,
          449,
          1.5,
          3.8,
          789,
          764,
          807,
          801,
          1.092,
          935,
          761,
          633,
          823,
          781,
          742,
          672,
          430,
          660,
          1.669,
          665,
          809,
          3.9,
          409,
          612,
          587,
          1.212,
          1.313,
          967,
          573,
          1.3,
          750,
          1.208,
          881,
          2.044,
          316,
          1.65,
          861,
          325,
          311,
          237,
          850,
          716,
          200,
          353,
          510,
          281,
          641,
          600,
          330,
          2.77,
          465,
          515,
          279,
          1.8,
          3.2,
          440,
          339,
          959,
          633,
          227,
          341,
          520,
          424,
          693,
          326,
          486,
          664,
          850,
          700,
          735,
          744,
          293,
          1.015,
          360,
          320,
          982,
          781,
          905,
          730,
          654,
          448,
          1.14,
          1.09,
          482,
          784,
          955,
          860,
          401,
          1.188,
          569,
          789,
          3.3,
          563,
          297,
          626,
          318,
          506,
          413,
          581,
          695,
          4.382,
          220,
          317,
          1.137,
          773,
          1.235,
          2.5,
          966,
          803,
          291,
          538,
          1.625,
          1.697,
          336,
          572,
          719,
          785,
          991,
          4.685,
          3.062,
          452,
          687,
          535,
          1.275,
          400,
          986,
          2.8,
          505,
          302,
          620,
          732,
          327,
          515,
          400,
          953,
          745,
          820,
          224,
          433,
          570,
          568,
          2.838,
          744,
          1.5,
          1.357,
          675,
          732,
          586,
          1.85,
          871,
          624,
          1.165,
          919,
          712,
          447,
          1.464,
          533,
          1.758,
          671,
          244,
          334,
          391,
          730,
          342,
          634,
          451,
          803,
          3.511,
          577,
          323,
          1.241,
          2.777,
          871,
          994,
          6.2,
          452,
          480,
          1.86,
          1.578,
          514,
          990,
          2.1,
          991,
          300,
          1.276,
          658,
          1.14,
          1.275,
          7.83,
          281,
          739,
          473,
          561,
          738,
          811,
          209,
          1.193,
          765,
          621,
          2.8,
          8.1,
          470,
          724,
          660,
          687,
          1.036,
          1.46,
          1.191,
          1.171,
          1.377,
          450,
          444,
          949,
          4,
          459,
          848,
          675,
          324,
          669,
          816,
          800,
          3.079,
          999,
          914,
          620,
          1.532,
          497,
          392,
          812,
          217,
          730,
          869,
          849,
          1.112,
          2.1,
          866,
          437,
          554,
          522,
          277,
          550,
          679,
          650,
          208,
          690,
          944,
          630,
          986,
          866,
          665,
          381,
          546,
          670,
          976,
          2.784,
          2.625,
          322,
          1.207,
          886,
          868,
          2.5,
          6.999,
          466,
          734,
          607,
          1.42,
          1.03,
          754,
          653,
          650,
          4.5,
          328,
          847,
          7.5,
          323,
          790,
          1.57,
          804,
          2.477,
          1.528,
          2.025,
          1.027,
          1.552,
          1.298,
          2.25,
          227,
          358,
          1.808,
          1.024,
          1.45,
          294,
          310,
          484,
          888,
          320,
          622,
          9,
          2.094,
          1.34,
          1.078,
          340,
          723,
          363,
          201,
          11.127,
          426,
          475,
          979,
          789,
          516,
          716,
          731,
          4.501,
          634,
          225,
          900,
          874,
          796,
          1.43,
          317,
          708,
          795,
          1.216,
          700,
          893,
          765,
          1.013,
          4.736,
          2.302,
          2.61,
          5.1,
          979,
          1.157,
          1.347,
          2.328,
          314,
          601,
          323,
          747,
          310,
          232,
          2.199,
          575,
          794,
          537,
          3.309,
          3.15,
          1.97,
          955,
          1.319,
          6.05,
          500,
          286,
          1.389,
          5.059,
          982,
          3.982,
          3.728,
          2.363,
          643,
          496,
          2.49,
          539,
          544,
          1.674,
          466,
          1.597,
          1.106,
          660,
          4.424,
          720,
          1.35,
          3.081,
          3.423,
          1.875,
          683,
          560,
          1.27,
          532,
          815,
          621,
          623,
          450,
          765,
          431,
          327,
          245,
          3,
          855,
          374
         ],
         "xaxis": "x",
         "yaxis": "y"
        }
       ],
       "layout": {
        "barmode": "relative",
        "font": {
         "family": "monospace",
         "size": 14
        },
        "legend": {
         "tracegroupgap": 0
        },
        "paper_bgcolor": "#F5F5F5",
        "plot_bgcolor": "#F5F5F5",
        "template": {
         "data": {
          "bar": [
           {
            "error_x": {
             "color": "#2a3f5f"
            },
            "error_y": {
             "color": "#2a3f5f"
            },
            "marker": {
             "line": {
              "color": "#E5ECF6",
              "width": 0.5
             },
             "pattern": {
              "fillmode": "overlay",
              "size": 10,
              "solidity": 0.2
             }
            },
            "type": "bar"
           }
          ],
          "barpolar": [
           {
            "marker": {
             "line": {
              "color": "#E5ECF6",
              "width": 0.5
             },
             "pattern": {
              "fillmode": "overlay",
              "size": 10,
              "solidity": 0.2
             }
            },
            "type": "barpolar"
           }
          ],
          "carpet": [
           {
            "aaxis": {
             "endlinecolor": "#2a3f5f",
             "gridcolor": "white",
             "linecolor": "white",
             "minorgridcolor": "white",
             "startlinecolor": "#2a3f5f"
            },
            "baxis": {
             "endlinecolor": "#2a3f5f",
             "gridcolor": "white",
             "linecolor": "white",
             "minorgridcolor": "white",
             "startlinecolor": "#2a3f5f"
            },
            "type": "carpet"
           }
          ],
          "choropleth": [
           {
            "colorbar": {
             "outlinewidth": 0,
             "ticks": ""
            },
            "type": "choropleth"
           }
          ],
          "contour": [
           {
            "colorbar": {
             "outlinewidth": 0,
             "ticks": ""
            },
            "colorscale": [
             [
              0,
              "#0d0887"
             ],
             [
              0.1111111111111111,
              "#46039f"
             ],
             [
              0.2222222222222222,
              "#7201a8"
             ],
             [
              0.3333333333333333,
              "#9c179e"
             ],
             [
              0.4444444444444444,
              "#bd3786"
             ],
             [
              0.5555555555555556,
              "#d8576b"
             ],
             [
              0.6666666666666666,
              "#ed7953"
             ],
             [
              0.7777777777777778,
              "#fb9f3a"
             ],
             [
              0.8888888888888888,
              "#fdca26"
             ],
             [
              1,
              "#f0f921"
             ]
            ],
            "type": "contour"
           }
          ],
          "contourcarpet": [
           {
            "colorbar": {
             "outlinewidth": 0,
             "ticks": ""
            },
            "type": "contourcarpet"
           }
          ],
          "heatmap": [
           {
            "colorbar": {
             "outlinewidth": 0,
             "ticks": ""
            },
            "colorscale": [
             [
              0,
              "#0d0887"
             ],
             [
              0.1111111111111111,
              "#46039f"
             ],
             [
              0.2222222222222222,
              "#7201a8"
             ],
             [
              0.3333333333333333,
              "#9c179e"
             ],
             [
              0.4444444444444444,
              "#bd3786"
             ],
             [
              0.5555555555555556,
              "#d8576b"
             ],
             [
              0.6666666666666666,
              "#ed7953"
             ],
             [
              0.7777777777777778,
              "#fb9f3a"
             ],
             [
              0.8888888888888888,
              "#fdca26"
             ],
             [
              1,
              "#f0f921"
             ]
            ],
            "type": "heatmap"
           }
          ],
          "heatmapgl": [
           {
            "colorbar": {
             "outlinewidth": 0,
             "ticks": ""
            },
            "colorscale": [
             [
              0,
              "#0d0887"
             ],
             [
              0.1111111111111111,
              "#46039f"
             ],
             [
              0.2222222222222222,
              "#7201a8"
             ],
             [
              0.3333333333333333,
              "#9c179e"
             ],
             [
              0.4444444444444444,
              "#bd3786"
             ],
             [
              0.5555555555555556,
              "#d8576b"
             ],
             [
              0.6666666666666666,
              "#ed7953"
             ],
             [
              0.7777777777777778,
              "#fb9f3a"
             ],
             [
              0.8888888888888888,
              "#fdca26"
             ],
             [
              1,
              "#f0f921"
             ]
            ],
            "type": "heatmapgl"
           }
          ],
          "histogram": [
           {
            "marker": {
             "pattern": {
              "fillmode": "overlay",
              "size": 10,
              "solidity": 0.2
             }
            },
            "type": "histogram"
           }
          ],
          "histogram2d": [
           {
            "colorbar": {
             "outlinewidth": 0,
             "ticks": ""
            },
            "colorscale": [
             [
              0,
              "#0d0887"
             ],
             [
              0.1111111111111111,
              "#46039f"
             ],
             [
              0.2222222222222222,
              "#7201a8"
             ],
             [
              0.3333333333333333,
              "#9c179e"
             ],
             [
              0.4444444444444444,
              "#bd3786"
             ],
             [
              0.5555555555555556,
              "#d8576b"
             ],
             [
              0.6666666666666666,
              "#ed7953"
             ],
             [
              0.7777777777777778,
              "#fb9f3a"
             ],
             [
              0.8888888888888888,
              "#fdca26"
             ],
             [
              1,
              "#f0f921"
             ]
            ],
            "type": "histogram2d"
           }
          ],
          "histogram2dcontour": [
           {
            "colorbar": {
             "outlinewidth": 0,
             "ticks": ""
            },
            "colorscale": [
             [
              0,
              "#0d0887"
             ],
             [
              0.1111111111111111,
              "#46039f"
             ],
             [
              0.2222222222222222,
              "#7201a8"
             ],
             [
              0.3333333333333333,
              "#9c179e"
             ],
             [
              0.4444444444444444,
              "#bd3786"
             ],
             [
              0.5555555555555556,
              "#d8576b"
             ],
             [
              0.6666666666666666,
              "#ed7953"
             ],
             [
              0.7777777777777778,
              "#fb9f3a"
             ],
             [
              0.8888888888888888,
              "#fdca26"
             ],
             [
              1,
              "#f0f921"
             ]
            ],
            "type": "histogram2dcontour"
           }
          ],
          "mesh3d": [
           {
            "colorbar": {
             "outlinewidth": 0,
             "ticks": ""
            },
            "type": "mesh3d"
           }
          ],
          "parcoords": [
           {
            "line": {
             "colorbar": {
              "outlinewidth": 0,
              "ticks": ""
             }
            },
            "type": "parcoords"
           }
          ],
          "pie": [
           {
            "automargin": true,
            "type": "pie"
           }
          ],
          "scatter": [
           {
            "fillpattern": {
             "fillmode": "overlay",
             "size": 10,
             "solidity": 0.2
            },
            "type": "scatter"
           }
          ],
          "scatter3d": [
           {
            "line": {
             "colorbar": {
              "outlinewidth": 0,
              "ticks": ""
             }
            },
            "marker": {
             "colorbar": {
              "outlinewidth": 0,
              "ticks": ""
             }
            },
            "type": "scatter3d"
           }
          ],
          "scattercarpet": [
           {
            "marker": {
             "colorbar": {
              "outlinewidth": 0,
              "ticks": ""
             }
            },
            "type": "scattercarpet"
           }
          ],
          "scattergeo": [
           {
            "marker": {
             "colorbar": {
              "outlinewidth": 0,
              "ticks": ""
             }
            },
            "type": "scattergeo"
           }
          ],
          "scattergl": [
           {
            "marker": {
             "colorbar": {
              "outlinewidth": 0,
              "ticks": ""
             }
            },
            "type": "scattergl"
           }
          ],
          "scattermapbox": [
           {
            "marker": {
             "colorbar": {
              "outlinewidth": 0,
              "ticks": ""
             }
            },
            "type": "scattermapbox"
           }
          ],
          "scatterpolar": [
           {
            "marker": {
             "colorbar": {
              "outlinewidth": 0,
              "ticks": ""
             }
            },
            "type": "scatterpolar"
           }
          ],
          "scatterpolargl": [
           {
            "marker": {
             "colorbar": {
              "outlinewidth": 0,
              "ticks": ""
             }
            },
            "type": "scatterpolargl"
           }
          ],
          "scatterternary": [
           {
            "marker": {
             "colorbar": {
              "outlinewidth": 0,
              "ticks": ""
             }
            },
            "type": "scatterternary"
           }
          ],
          "surface": [
           {
            "colorbar": {
             "outlinewidth": 0,
             "ticks": ""
            },
            "colorscale": [
             [
              0,
              "#0d0887"
             ],
             [
              0.1111111111111111,
              "#46039f"
             ],
             [
              0.2222222222222222,
              "#7201a8"
             ],
             [
              0.3333333333333333,
              "#9c179e"
             ],
             [
              0.4444444444444444,
              "#bd3786"
             ],
             [
              0.5555555555555556,
              "#d8576b"
             ],
             [
              0.6666666666666666,
              "#ed7953"
             ],
             [
              0.7777777777777778,
              "#fb9f3a"
             ],
             [
              0.8888888888888888,
              "#fdca26"
             ],
             [
              1,
              "#f0f921"
             ]
            ],
            "type": "surface"
           }
          ],
          "table": [
           {
            "cells": {
             "fill": {
              "color": "#EBF0F8"
             },
             "line": {
              "color": "white"
             }
            },
            "header": {
             "fill": {
              "color": "#C8D4E3"
             },
             "line": {
              "color": "white"
             }
            },
            "type": "table"
           }
          ]
         },
         "layout": {
          "annotationdefaults": {
           "arrowcolor": "#2a3f5f",
           "arrowhead": 0,
           "arrowwidth": 1
          },
          "autotypenumbers": "strict",
          "coloraxis": {
           "colorbar": {
            "outlinewidth": 0,
            "ticks": ""
           }
          },
          "colorscale": {
           "diverging": [
            [
             0,
             "#8e0152"
            ],
            [
             0.1,
             "#c51b7d"
            ],
            [
             0.2,
             "#de77ae"
            ],
            [
             0.3,
             "#f1b6da"
            ],
            [
             0.4,
             "#fde0ef"
            ],
            [
             0.5,
             "#f7f7f7"
            ],
            [
             0.6,
             "#e6f5d0"
            ],
            [
             0.7,
             "#b8e186"
            ],
            [
             0.8,
             "#7fbc41"
            ],
            [
             0.9,
             "#4d9221"
            ],
            [
             1,
             "#276419"
            ]
           ],
           "sequential": [
            [
             0,
             "#0d0887"
            ],
            [
             0.1111111111111111,
             "#46039f"
            ],
            [
             0.2222222222222222,
             "#7201a8"
            ],
            [
             0.3333333333333333,
             "#9c179e"
            ],
            [
             0.4444444444444444,
             "#bd3786"
            ],
            [
             0.5555555555555556,
             "#d8576b"
            ],
            [
             0.6666666666666666,
             "#ed7953"
            ],
            [
             0.7777777777777778,
             "#fb9f3a"
            ],
            [
             0.8888888888888888,
             "#fdca26"
            ],
            [
             1,
             "#f0f921"
            ]
           ],
           "sequentialminus": [
            [
             0,
             "#0d0887"
            ],
            [
             0.1111111111111111,
             "#46039f"
            ],
            [
             0.2222222222222222,
             "#7201a8"
            ],
            [
             0.3333333333333333,
             "#9c179e"
            ],
            [
             0.4444444444444444,
             "#bd3786"
            ],
            [
             0.5555555555555556,
             "#d8576b"
            ],
            [
             0.6666666666666666,
             "#ed7953"
            ],
            [
             0.7777777777777778,
             "#fb9f3a"
            ],
            [
             0.8888888888888888,
             "#fdca26"
            ],
            [
             1,
             "#f0f921"
            ]
           ]
          },
          "colorway": [
           "#636efa",
           "#EF553B",
           "#00cc96",
           "#ab63fa",
           "#FFA15A",
           "#19d3f3",
           "#FF6692",
           "#B6E880",
           "#FF97FF",
           "#FECB52"
          ],
          "font": {
           "color": "#2a3f5f"
          },
          "geo": {
           "bgcolor": "white",
           "lakecolor": "white",
           "landcolor": "#E5ECF6",
           "showlakes": true,
           "showland": true,
           "subunitcolor": "white"
          },
          "hoverlabel": {
           "align": "left"
          },
          "hovermode": "closest",
          "mapbox": {
           "style": "light"
          },
          "paper_bgcolor": "white",
          "plot_bgcolor": "#E5ECF6",
          "polar": {
           "angularaxis": {
            "gridcolor": "white",
            "linecolor": "white",
            "ticks": ""
           },
           "bgcolor": "#E5ECF6",
           "radialaxis": {
            "gridcolor": "white",
            "linecolor": "white",
            "ticks": ""
           }
          },
          "scene": {
           "xaxis": {
            "backgroundcolor": "#E5ECF6",
            "gridcolor": "white",
            "gridwidth": 2,
            "linecolor": "white",
            "showbackground": true,
            "ticks": "",
            "zerolinecolor": "white"
           },
           "yaxis": {
            "backgroundcolor": "#E5ECF6",
            "gridcolor": "white",
            "gridwidth": 2,
            "linecolor": "white",
            "showbackground": true,
            "ticks": "",
            "zerolinecolor": "white"
           },
           "zaxis": {
            "backgroundcolor": "#E5ECF6",
            "gridcolor": "white",
            "gridwidth": 2,
            "linecolor": "white",
            "showbackground": true,
            "ticks": "",
            "zerolinecolor": "white"
           }
          },
          "shapedefaults": {
           "line": {
            "color": "#2a3f5f"
           }
          },
          "ternary": {
           "aaxis": {
            "gridcolor": "white",
            "linecolor": "white",
            "ticks": ""
           },
           "baxis": {
            "gridcolor": "white",
            "linecolor": "white",
            "ticks": ""
           },
           "bgcolor": "#E5ECF6",
           "caxis": {
            "gridcolor": "white",
            "linecolor": "white",
            "ticks": ""
           }
          },
          "title": {
           "x": 0.05
          },
          "xaxis": {
           "automargin": true,
           "gridcolor": "white",
           "linecolor": "white",
           "ticks": "",
           "title": {
            "standoff": 15
           },
           "zerolinecolor": "white",
           "zerolinewidth": 2
          },
          "yaxis": {
           "automargin": true,
           "gridcolor": "white",
           "linecolor": "white",
           "ticks": "",
           "title": {
            "standoff": 15
           },
           "zerolinecolor": "white",
           "zerolinewidth": 2
          }
         }
        },
        "title": {
         "font": {
          "color": "black",
          "family": "monospace",
          "size": 20
         },
         "text": "Price Range of Hotels in Riyadh"
        },
        "xaxis": {
         "anchor": "y",
         "domain": [
          0,
          1
         ],
         "title": {
          "text": "Price"
         }
        },
        "yaxis": {
         "anchor": "x",
         "domain": [
          0,
          1
         ],
         "title": {
          "text": "Number of Hotels"
         }
        }
       }
      }
     },
     "metadata": {},
     "output_type": "display_data"
    }
   ],
   "source": [
    "import plotly.express as px\n",
    "\n",
    "# Filter the DataFrame for hotels in Riyadh\n",
    "df_riyadh = df[df['region'] == 'Riyadh']\n",
    "\n",
    "# Create the histogram using Plotly with a creative color palette\n",
    "fig = px.histogram(\n",
    "    df_riyadh, \n",
    "    x='Price', \n",
    "    nbins=20, \n",
    "    color_discrete_sequence=px.colors.sequential.Tealgrn,  # Creative color palette\n",
    "    title='Price Range of Hotels in Riyadh'\n",
    ")\n",
    "\n",
    "# Customize the layout\n",
    "fig.update_layout(\n",
    "    title_font=dict(size=20, family='monospace', color='black'),\n",
    "    xaxis_title='Price',\n",
    "    yaxis_title='Number of Hotels',\n",
    "    font=dict(family='monospace', size=14),\n",
    "    plot_bgcolor='#F5F5F5',\n",
    "    paper_bgcolor='#F5F5F5'\n",
    ")\n",
    "\n",
    "# Display the plot\n",
    "fig.show()\n"
   ]
  },
  {
   "cell_type": "code",
   "execution_count": 297,
   "id": "dfa6750d",
   "metadata": {},
   "outputs": [
    {
     "data": {
      "text/html": [
       "<div>\n",
       "<style scoped>\n",
       "    .dataframe tbody tr th:only-of-type {\n",
       "        vertical-align: middle;\n",
       "    }\n",
       "\n",
       "    .dataframe tbody tr th {\n",
       "        vertical-align: top;\n",
       "    }\n",
       "\n",
       "    .dataframe thead th {\n",
       "        text-align: right;\n",
       "    }\n",
       "</style>\n",
       "<table border=\"1\" class=\"dataframe\">\n",
       "  <thead>\n",
       "    <tr style=\"text-align: right;\">\n",
       "      <th></th>\n",
       "      <th>Hotel_Name</th>\n",
       "      <th>Rating</th>\n",
       "      <th>Price</th>\n",
       "      <th>region</th>\n",
       "      <th>Airport_Shuttle</th>\n",
       "      <th>Business_Centre</th>\n",
       "      <th>Facilities</th>\n",
       "      <th>Fitness_Centre</th>\n",
       "      <th>Restaurant</th>\n",
       "      <th>Room_Service</th>\n",
       "      <th>Spa</th>\n",
       "      <th>Swimming_Pool</th>\n",
       "      <th>Wellness_Centre</th>\n",
       "    </tr>\n",
       "  </thead>\n",
       "  <tbody>\n",
       "    <tr>\n",
       "      <th>0</th>\n",
       "      <td>Radisson Blu Hotel, Jeddah Al Salam</td>\n",
       "      <td>8.7</td>\n",
       "      <td>540.0</td>\n",
       "      <td>Jeddah</td>\n",
       "      <td>0</td>\n",
       "      <td>0</td>\n",
       "      <td>0</td>\n",
       "      <td>0</td>\n",
       "      <td>0</td>\n",
       "      <td>0</td>\n",
       "      <td>0</td>\n",
       "      <td>1</td>\n",
       "      <td>0</td>\n",
       "    </tr>\n",
       "    <tr>\n",
       "      <th>1</th>\n",
       "      <td>Holiday Inn JEDDAH GATEWAY</td>\n",
       "      <td>8.4</td>\n",
       "      <td>614.0</td>\n",
       "      <td>Jeddah</td>\n",
       "      <td>0</td>\n",
       "      <td>0</td>\n",
       "      <td>0</td>\n",
       "      <td>0</td>\n",
       "      <td>0</td>\n",
       "      <td>0</td>\n",
       "      <td>0</td>\n",
       "      <td>1</td>\n",
       "      <td>0</td>\n",
       "    </tr>\n",
       "    <tr>\n",
       "      <th>2</th>\n",
       "      <td>Golden New Palace</td>\n",
       "      <td>8.2</td>\n",
       "      <td>193.0</td>\n",
       "      <td>Jeddah</td>\n",
       "      <td>0</td>\n",
       "      <td>0</td>\n",
       "      <td>0</td>\n",
       "      <td>0</td>\n",
       "      <td>0</td>\n",
       "      <td>0</td>\n",
       "      <td>1</td>\n",
       "      <td>0</td>\n",
       "      <td>1</td>\n",
       "    </tr>\n",
       "    <tr>\n",
       "      <th>3</th>\n",
       "      <td>Habitat Hotel All Suites - Jeddah</td>\n",
       "      <td>7.4</td>\n",
       "      <td>375.0</td>\n",
       "      <td>Jeddah</td>\n",
       "      <td>0</td>\n",
       "      <td>0</td>\n",
       "      <td>0</td>\n",
       "      <td>0</td>\n",
       "      <td>1</td>\n",
       "      <td>0</td>\n",
       "      <td>0</td>\n",
       "      <td>1</td>\n",
       "      <td>0</td>\n",
       "    </tr>\n",
       "    <tr>\n",
       "      <th>4</th>\n",
       "      <td>Donatello Hotel Jeddah</td>\n",
       "      <td>8.1</td>\n",
       "      <td>472.0</td>\n",
       "      <td>Jeddah</td>\n",
       "      <td>0</td>\n",
       "      <td>0</td>\n",
       "      <td>0</td>\n",
       "      <td>0</td>\n",
       "      <td>0</td>\n",
       "      <td>0</td>\n",
       "      <td>0</td>\n",
       "      <td>1</td>\n",
       "      <td>0</td>\n",
       "    </tr>\n",
       "    <tr>\n",
       "      <th>...</th>\n",
       "      <td>...</td>\n",
       "      <td>...</td>\n",
       "      <td>...</td>\n",
       "      <td>...</td>\n",
       "      <td>...</td>\n",
       "      <td>...</td>\n",
       "      <td>...</td>\n",
       "      <td>...</td>\n",
       "      <td>...</td>\n",
       "      <td>...</td>\n",
       "      <td>...</td>\n",
       "      <td>...</td>\n",
       "      <td>...</td>\n",
       "    </tr>\n",
       "    <tr>\n",
       "      <th>3222</th>\n",
       "      <td>Al Sultan Hostel</td>\n",
       "      <td>8.7</td>\n",
       "      <td>330.0</td>\n",
       "      <td>Jazan</td>\n",
       "      <td>0</td>\n",
       "      <td>0</td>\n",
       "      <td>0</td>\n",
       "      <td>0</td>\n",
       "      <td>1</td>\n",
       "      <td>0</td>\n",
       "      <td>0</td>\n",
       "      <td>0</td>\n",
       "      <td>0</td>\n",
       "    </tr>\n",
       "    <tr>\n",
       "      <th>3223</th>\n",
       "      <td>Jizan Park Hotel</td>\n",
       "      <td>7.8</td>\n",
       "      <td>349.0</td>\n",
       "      <td>Jazan</td>\n",
       "      <td>0</td>\n",
       "      <td>0</td>\n",
       "      <td>0</td>\n",
       "      <td>0</td>\n",
       "      <td>0</td>\n",
       "      <td>0</td>\n",
       "      <td>0</td>\n",
       "      <td>0</td>\n",
       "      <td>0</td>\n",
       "    </tr>\n",
       "    <tr>\n",
       "      <th>3224</th>\n",
       "      <td>Msharef Al Moden Suites - Jazan</td>\n",
       "      <td>9.1</td>\n",
       "      <td>398.0</td>\n",
       "      <td>Jazan</td>\n",
       "      <td>0</td>\n",
       "      <td>0</td>\n",
       "      <td>0</td>\n",
       "      <td>0</td>\n",
       "      <td>0</td>\n",
       "      <td>0</td>\n",
       "      <td>0</td>\n",
       "      <td>0</td>\n",
       "      <td>0</td>\n",
       "    </tr>\n",
       "    <tr>\n",
       "      <th>3225</th>\n",
       "      <td>Al Dar Hotel Apartments</td>\n",
       "      <td>7.3</td>\n",
       "      <td>178.0</td>\n",
       "      <td>Jazan</td>\n",
       "      <td>0</td>\n",
       "      <td>0</td>\n",
       "      <td>0</td>\n",
       "      <td>0</td>\n",
       "      <td>0</td>\n",
       "      <td>1</td>\n",
       "      <td>0</td>\n",
       "      <td>0</td>\n",
       "      <td>0</td>\n",
       "    </tr>\n",
       "    <tr>\n",
       "      <th>3226</th>\n",
       "      <td>Courtyard Jazan</td>\n",
       "      <td>8.5</td>\n",
       "      <td>450.0</td>\n",
       "      <td>Jazan</td>\n",
       "      <td>0</td>\n",
       "      <td>0</td>\n",
       "      <td>0</td>\n",
       "      <td>0</td>\n",
       "      <td>0</td>\n",
       "      <td>0</td>\n",
       "      <td>0</td>\n",
       "      <td>1</td>\n",
       "      <td>0</td>\n",
       "    </tr>\n",
       "  </tbody>\n",
       "</table>\n",
       "<p>1424 rows × 13 columns</p>\n",
       "</div>"
      ],
      "text/plain": [
       "                               Hotel_Name  Rating  Price  region  \\\n",
       "0     Radisson Blu Hotel, Jeddah Al Salam     8.7  540.0  Jeddah   \n",
       "1              Holiday Inn JEDDAH GATEWAY     8.4  614.0  Jeddah   \n",
       "2                       Golden New Palace     8.2  193.0  Jeddah   \n",
       "3       Habitat Hotel All Suites - Jeddah     7.4  375.0  Jeddah   \n",
       "4                  Donatello Hotel Jeddah     8.1  472.0  Jeddah   \n",
       "...                                   ...     ...    ...     ...   \n",
       "3222                     Al Sultan Hostel     8.7  330.0   Jazan   \n",
       "3223                     Jizan Park Hotel     7.8  349.0   Jazan   \n",
       "3224      Msharef Al Moden Suites - Jazan     9.1  398.0   Jazan   \n",
       "3225              Al Dar Hotel Apartments     7.3  178.0   Jazan   \n",
       "3226                      Courtyard Jazan     8.5  450.0   Jazan   \n",
       "\n",
       "      Airport_Shuttle  Business_Centre  Facilities  Fitness_Centre  \\\n",
       "0                   0                0           0               0   \n",
       "1                   0                0           0               0   \n",
       "2                   0                0           0               0   \n",
       "3                   0                0           0               0   \n",
       "4                   0                0           0               0   \n",
       "...               ...              ...         ...             ...   \n",
       "3222                0                0           0               0   \n",
       "3223                0                0           0               0   \n",
       "3224                0                0           0               0   \n",
       "3225                0                0           0               0   \n",
       "3226                0                0           0               0   \n",
       "\n",
       "      Restaurant  Room_Service  Spa  Swimming_Pool  Wellness_Centre  \n",
       "0              0             0    0              1                0  \n",
       "1              0             0    0              1                0  \n",
       "2              0             0    1              0                1  \n",
       "3              1             0    0              1                0  \n",
       "4              0             0    0              1                0  \n",
       "...          ...           ...  ...            ...              ...  \n",
       "3222           1             0    0              0                0  \n",
       "3223           0             0    0              0                0  \n",
       "3224           0             0    0              0                0  \n",
       "3225           0             1    0              0                0  \n",
       "3226           0             0    0              1                0  \n",
       "\n",
       "[1424 rows x 13 columns]"
      ]
     },
     "execution_count": 297,
     "metadata": {},
     "output_type": "execute_result"
    }
   ],
   "source": [
    "df"
   ]
  },
  {
   "cell_type": "code",
   "execution_count": null,
   "id": "402de4e0",
   "metadata": {},
   "outputs": [],
   "source": []
  }
 ],
 "metadata": {
  "kernelspec": {
   "display_name": "Python 3",
   "language": "python",
   "name": "python3"
  },
  "language_info": {
   "codemirror_mode": {
    "name": "ipython",
    "version": 3
   },
   "file_extension": ".py",
   "mimetype": "text/x-python",
   "name": "python",
   "nbconvert_exporter": "python",
   "pygments_lexer": "ipython3",
   "version": "3.11.9"
  }
 },
 "nbformat": 4,
 "nbformat_minor": 5
}
